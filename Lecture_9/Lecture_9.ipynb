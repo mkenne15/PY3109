{
 "cells": [
  {
   "cell_type": "code",
   "execution_count": 2,
   "id": "a0e822ab-6601-47f5-8ec2-be0ede781531",
   "metadata": {
    "tags": []
   },
   "outputs": [],
   "source": [
    "import astropy.units as u\n",
    "import astropy.constants as c\n",
    "import numpy as np"
   ]
  },
  {
   "cell_type": "markdown",
   "id": "ddd134bf-1a4f-496b-beea-305f49b73aef",
   "metadata": {},
   "source": [
    "# Stellar Formation"
   ]
  },
  {
   "cell_type": "markdown",
   "id": "67e7ca11-94c1-426d-95ac-57c0495797a0",
   "metadata": {},
   "source": [
    "In the last lecture we covered 4 important concepts for stellar formation\n",
    "\n",
    "- The equation of motion for collapsing cloud of gas:\n",
    "    $-\\frac{d^2r}{dt^2}=g(r)+\\frac{1}{\\rho (r)}\\frac{dP}{dr}$.\n",
    "- The freefall time:\n",
    "    $t_{\\rm FF} = \\left[\\frac{3 \\pi}{32 G \\rho }\\right] ^{1/2}$.\n",
    "- Hydrostatic equilibrium:\n",
    "    $<P> = -\\frac{1}{3}\\frac{E_{\\rm GP}}{V}$\n",
    "- The Jeans Mass/Density:\n",
    "    $M_{\\rm J} = \\frac{3 k T}{2 g \\bar{m} } R$; \n",
    "    $\\rho_{\\rm J} = \\frac{3}{4 \\pi M^2}\\left[\\frac{3kT}{2G\\bar{m}}\\right]^3$\n",
    "    \n",
    "Using the Jeans Density, we found that for a 300 solar mass cloud, a density of $1\\times 10^6$ particles/m$^3$ is enough to drive a collapse. Such densities are such clouds typically follow a hierarchical collapse. In this model, one large cloud begins to collapse, driving up the density at various parts of the cloud until the cloud seperates into smaller clouds, with densities high enough to cause graviational collapse. This process continues until a single cloud produces several stars.\n",
    "\n",
    "So let's assume we are at the final stage of this collapse - that is, we have a 1 solar mass dust cloud of molecular hydrogen at a temperature of 20 K, and an average density of:\n",
    "$$\n",
    "    \\rho = \\rho_{\\rm J} = \\frac{3}{4 \\pi (1 {\\rm M_{\\odot}})^2}\\left[ \\frac{3k (20 {\\rm K})}{2 G (2\\times m_{\\rm H})}\\right] ^3\n",
    "$$\n",
    "The radius of such a cloud is $\\sim 10^{15}$m. This cloud will collapse unopposed as long as the gravitational energy released is not converted into thermal motion of the particles. This will happen as long as the energy goes into dissassociation of hydrogen molecules and the ionization of H atoms.\n",
    "\n",
    "## The radius at which pressure becomes important\n",
    "The energy to dissassociated a H molecules is $\\epsilon _D=4.5$eV, while the energy needed to ionise a H atom is $\\epsilon _I=13.6$eV. As such, the energy needed to dissassociate all of the H molecules, and ionise of the H atoms, is approxmiately\n",
    "$$\n",
    "    \\frac{M}{2m_H}\\epsilon _D+\\frac{M}{m_H}\\epsilon _I\n",
    "$$\n",
    "Assuming that this energy comes from the graviational collapse of a cloud from $R_1$ to $R_2$, we can then equate these\n",
    "$$\n",
    "    \\frac{GM^2}{r_2}-\\frac{GM^2}{r_1}=\\frac{M}{2m_H}\\epsilon _D+\\frac{M}{m_H}\\epsilon _I\n",
    "$$\n",
    "If we plug in $10^{15}$m as the initial radius, and assume a 1 solar mass cloud, we find that $R_2\\sim 10^{11}$m, and that the free fall time is $\\sim$ 100,000 years.\n",
    "\n",
    "## The core temperature once we've reached hydrostatic equilibrium\n",
    "So at this stage, the gravitational energy released by the collapse can no longer go into dissociating or ionising hydrogen. From this point onwards, any further contraction equates to an increase in temperature of the cloud, which (assuming an ideal gas) means the pressure increases, slowing the collapse. At this point, we are in hydrostatic equilibrium, so we can use the virial theorem:\n",
    "$$\n",
    "    <P>V = -\\frac{1}{3} E_{\\rm GP} = NkT\n",
    "$$\n",
    "to estimate the temperature. Now, $E_{\\rm GP} \\sim -\\frac{GM^2}{r_2}$. As such, T is $\\sim 60,000$ K.\n",
    "\n",
    "This is below the temeperature required to drive fusion $(\\sim 10^{7})$ K, so the cloud must collapse further to become a star."
   ]
  },
  {
   "cell_type": "code",
   "execution_count": 5,
   "id": "19e6a43f-1bdc-4160-ac53-c453b5be4195",
   "metadata": {},
   "outputs": [
    {
     "name": "stdout",
     "output_type": "stream",
     "text": [
      "The critical density is 3.854896e-16 kg / m3\n",
      "The initial radius is: 1071852134710531.6 m\n",
      "The final radius is: 125.63549035853605 solRad\n",
      "The freefall time is: 107212.99073787211 yr\n",
      "The internal temperature assuming hydrostatic equilibrium at R2 is: 61315.53740885625 K\n"
     ]
    }
   ],
   "source": [
    "M = 1*u.solMass\n",
    "m = 2*c.m_p\n",
    "T = 20*u.K\n",
    "ed = 4.5*u.eV\n",
    "ei = 13.6*u.eV\n",
    "r1 = 1e15*u.m\n",
    "\n",
    "rho = (3/(4*np.pi*M**2)) * ((3*c.k_B*T)/(2*c.G*m))**3\n",
    "r1 = (3*M/(4*np.pi*rho))**(1/3)\n",
    "r2 = c.G*M**2/((M/(2*c.m_p)*ed+M/(c.m_p)*ei+c.G*M**2/r1))\n",
    "teff = ((3*np.pi)/(32*c.G*rho))**(1/2)\n",
    "\n",
    "E_gp = -c.G*M**2/r2\n",
    "T = -E_gp/(3*M/c.m_p*c.k_B)\n",
    "\n",
    "print(\"The critical density is {:e}\".format(rho.to(u.kg/u.m**3)))\n",
    "print(\"The initial radius is {:e}\".format(r1.to(u.m))\n",
    "print(\"The final radius is {:e}\".format( r2.to(u.solRad))\n",
    "print(\"The freefall time is {:e}\".format( teff.to(u.year))\n",
    "print(\"The internal temperature assuming hydrostatic equilibrium at R2 is {:e}\".format( T.to(u.K))"
   ]
  },
  {
   "cell_type": "markdown",
   "id": "43733f01-3984-4fc1-80f8-5a075eb21d7c",
   "metadata": {},
   "source": [
    "## Degeneracy Pressure\n",
    "\n",
    "So, will all dust clouds collapse enough to create a high enough temperature to ignite fusion. The short answer is no, but to understand why we must start considering quantum mechanical effects.\n",
    "\n",
    "We will start by assuming that there is a minimum total kinetic energy for a collection of electrons, and that this degeneracy occurs when the average distance between electrons becomes comparable to the De Broglie wavelength, $\\lambda _{\\rm DB} = h/p$ where $h$ is Planck's contant and $p$ is the momentum. The kinetic energy of a classical electron is $E_{\\rm KE} = kT$, so the momentum is given by $p\\sim \\sqrt{2 m_{\\rm e} kT}$ (please excuse the mixing of classical and quantum here, but we just want to get a rough handle on the picture). As such, the De Broglie wavelength is\n",
    "$$\n",
    "    \\lambda_{\\rm DB} = \\frac{h}{\\sqrt{2 m_{\\rm e} kT}}\n",
    "$$\n",
    "So, a classical treatment of  the particles is appropriate when the distance between the electrons is much larger than this wavelength. Assume we have a cloud of electrons with a density of $\\rho = \\frac{\\bar{m}}{\\Delta x^3}$ (that is, each particle occupies a volume of $\\Delta x^3$). For a classical treatment, we need $\\Delta x >> \\lambda$. This is satisfied when:\n",
    "$$\n",
    "    \\rho << \\frac{\\bar{m}}{\\lambda ^3} = \\bar{m} \\frac{(2 m_{\\rm e} kT)^{3/2}}{h^3}\n",
    "$$\n",
    "Now, using our expression for the gravitational potential energy ($E_{GP}$) and kinetic energy $E_{KE}$, and assuming hydrostatic equilibrium is achieved and maintained, then we can show that the temperature of the star increases as\n",
    "$$\n",
    "    kT=\\frac{GM\\bar{m}}{3R} \\simeq G\\bar{m}M^{2/3}\\rho^{1/3}.\n",
    "$$\n",
    "As such, the temperature at the core will rise with $\\rho^{1/3}$ as long as the inequality on $\\rho$ holds.\n",
    "\n",
    "So, what happens when we reach the critical density? By comining the above two expressions, we arrive at an expression which tells us what the temperature of the core will be when this happens:\n",
    "$$\n",
    "    kT \\sim \\left(\\frac{G}{h}\\right)^2 \\bar{m}^{8/3} m_e M^{4/3}\n",
    "$$\n",
    "Around this temperature, the electrons become generate, and exert degeneracy pressure, halting collapse. So, if we want fusion to occur, we need the temperature at which this occurs to be greater than $1\\times 10^7$ K. The above approximateion predicts this should happen somewhere between 0.04 and 0.1 ${\\rm M_{\\odot}}$. A more detailed treatment shows this occurs when $M>0.06 {\\rm M_{\\odot}}$. So, for a dust cloud with an initial mass higher than this, the core temperature will get high enough to start fusion. \n",
    "\n",
    "Smaller than this, and electron degeneracy presssure will halt collapse before the temperature has gotten high enough to ignite. Such stars are called brown dwarfs, and produce very low luminosities, making them very hard to observer."
   ]
  },
  {
   "cell_type": "markdown",
   "id": "96119b6f-937e-4c0e-b118-47b813ef0b68",
   "metadata": {},
   "source": [
    "# Mean Path Length"
   ]
  },
  {
   "cell_type": "markdown",
   "id": "39c28913-e0b2-45b3-aecd-e58ce3972085",
   "metadata": {},
   "source": [
    "Now, consider a photon which emerges from a nuclear burning core, as shown below. It encounters an atom at 1, interacts, and emerges at an angle, and moves to encounter another atom at position 2. This repeats until after atom 4. At this stage, the photon has travelled a long distance (summation of blue arrows), but relative to the core, has only moved slightly outwards (green arrow). After N number of interactions, it will finally escape into space - but how many interactions is this? And how long does it take?\n",
    "\n",
    "![Mean Free Path](Images/Mean_Path_Length.png)\n",
    "\n",
    "First, let's assume a mean-free-path length, ${\\bf l}$, which is the mean distance travelled between interactions. The distance $D$ travelled is the summation of the vectors ${\\bf D}={\\bf l}_1+{\\bf l}_2+{\\bf l}_3+...+{\\bf l}_N$. Squaring this, we get\n",
    "$$\n",
    "    D^2=l_1^2+l_2^2+l_3^2+...+l_N^2+({\\bf l}_1 \\cdot {\\bf l}_2 + {\\bf l}_1 \\cdot {\\bf l}_3+...)\n",
    "$$\n",
    "Now, over a large number of steps, $N$, all of the dot products should cancel, assuming every step is random. Thus, we get\n",
    "$$\n",
    "    D^2=l_1^2+l_2^2+l_3^2+...+l_N^2\n",
    "$$\n",
    "and assuming that every step is approximately the same distance,\n",
    "$$\n",
    "    D^2=Nl^2\n",
    "$$\n",
    "\n",
    "Assuming a mean free path of 1 mm, and that the radius of the run is $7\\times 10^8$ m, we find that a photon approximately undergoes $N=5 \\times 10^{23}$ scatterings. The time between each scattering is approxmiately $l/c$, and so it takes light $\\sim 50,000$ years to reach the surface. This also means the light we are seeing from the Sun is not a good indicator of what is currently going on in the core. More direct probes, like measuring the solar neutrino flux, can give us direct insight into the core."
   ]
  },
  {
   "cell_type": "code",
   "execution_count": null,
   "id": "613f139f-f0a4-495e-ae5e-13e0adc015ee",
   "metadata": {},
   "outputs": [],
   "source": []
  }
 ],
 "metadata": {
  "kernelspec": {
   "display_name": "Python 3 (ipykernel)",
   "language": "python",
   "name": "python3"
  },
  "language_info": {
   "codemirror_mode": {
    "name": "ipython",
    "version": 3
   },
   "file_extension": ".py",
   "mimetype": "text/x-python",
   "name": "python",
   "nbconvert_exporter": "python",
   "pygments_lexer": "ipython3",
   "version": "3.8.10"
  }
 },
 "nbformat": 4,
 "nbformat_minor": 5
}
