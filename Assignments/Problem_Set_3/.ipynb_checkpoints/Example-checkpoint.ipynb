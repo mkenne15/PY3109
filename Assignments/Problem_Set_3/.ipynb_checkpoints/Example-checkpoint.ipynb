{
 "cells": [
  {
   "cell_type": "markdown",
   "id": "5575d5d6-f675-4e0b-9a30-84a8e70e56e5",
   "metadata": {},
   "source": [
    "# Problem Set 3, Python question\n",
    "\n",
    "The aim of this question is to get you used to some of the more common features of AstroPy (https://docs.astropy.org/en/stable/), along with familiarising you with python.\n",
    "\n",
    "There are three parts to the problem:\n",
    "1. Given a star's spectrum and the transmission curves for 2 observing filters, calculate the star's apparent magnitudes in each filter. (6 marks).\n",
    "2. Given the parallax measurement for the star, estimate its distance, and the absolute magnitude of the star in each filter. Add these to the H-R diagram. (4 marks).\n",
    "3. Try identify the star, and briefly discuss it's position on the H-R diagram (1 mark).\n",
    "\n",
    "\n",
    "## Setup\n",
    "First off, Python is a modular coding languge. When you initially start a python session, there is very little in terms of functionality available to you. To import modules, we use the syntax\n",
    "```python\n",
    "import numpy as np\n",
    "```\n",
    "where this command imports the numpy module, and allows us to call any of it's functions using the np. syntax.\n",
    "\n",
    "You may also not want to load in an entire module, as they can some times be quite big, and include a lot of functionality which you don't need. A good example is Astropy. Good practice is to just import the sub-modules you need for you current project, which will save on time and memory. This is done using the syntax\n",
    "```python\n",
    "from astropy import units as u\n",
    "```\n",
    "where the above line imports the units module from astropy, and allows us to call it using u. The cell below loads in the modules and submodules we'll need for this exercise."
   ]
  },
  {
   "cell_type": "code",
   "execution_count": null,
   "id": "689c1f75-06cc-44e5-b882-1fdb42908797",
   "metadata": {
    "tags": []
   },
   "outputs": [],
   "source": [
    "import numpy as np\n",
    "import matplotlib.pyplot as plt\n",
    "from matplotlib import colors\n",
    "from astropy.io import fits\n",
    "from astropy import units as u\n",
    "from astropy import constants as c"
   ]
  },
  {
   "cell_type": "markdown",
   "id": "fb0f93c1-3467-476d-a299-9ac96ae9845e",
   "metadata": {},
   "source": [
    "## Part 1 - Calculate the apparent magnitude in the B and V bands"
   ]
  },
  {
   "cell_type": "markdown",
   "id": "71932d49-89e1-49bd-81ab-a5686799fd28",
   "metadata": {},
   "source": [
    "The next thing we need to do is load in our spectrm. The Spectrum is stored as a FITS (Flexible Image Transport System) file. This can be opened using Astropy's in-built function. We can look at what extensions the FITS file has using the info() function. In this case, there are two - the Primary Header, which contains information about the observations, and\n",
    "a table."
   ]
  },
  {
   "cell_type": "code",
   "execution_count": null,
   "id": "350e4d20-d87d-4d1e-ad60-24658eb38c7f",
   "metadata": {},
   "outputs": [],
   "source": [
    "hdu_list = fits.open(\"Spectrum.fits\")\n",
    "hdu_list.info()"
   ]
  },
  {
   "cell_type": "markdown",
   "id": "35713523-58ef-4649-8604-d1df4962d1df",
   "metadata": {},
   "source": [
    "We can explore the data by simply calling it. We find that this table has 5 columns: Wavelength, Flux, Staterror, Syserror, FWHM."
   ]
  },
  {
   "cell_type": "code",
   "execution_count": null,
   "id": "9fd97abe-cdea-4741-92c7-b18b687aa0f1",
   "metadata": {},
   "outputs": [],
   "source": [
    "hdu_list[1].data"
   ]
  },
  {
   "cell_type": "markdown",
   "id": "530b68cd-07af-448a-87db-19996bc71c69",
   "metadata": {},
   "source": [
    "We can index into the table to access any of these values using the second command."
   ]
  },
  {
   "cell_type": "code",
   "execution_count": null,
   "id": "aa3202c8-8819-48fb-a591-9311fe1e850f",
   "metadata": {},
   "outputs": [],
   "source": [
    "print(hdu_list[1].data['STATERROR'])"
   ]
  },
  {
   "cell_type": "markdown",
   "id": "37fb8a8a-3012-40c1-80bd-15e85598ad4b",
   "metadata": {},
   "source": [
    "These FITS tables can be plotted like an other array in python. Below is the template for plotting the spectrum - you should tweak both x lim and y lim to give the best view of the optical range of the data (3000 Angstroms to 10000 Angstroms)"
   ]
  },
  {
   "cell_type": "code",
   "execution_count": null,
   "id": "df022774-3992-4dfa-ae02-17956cad599f",
   "metadata": {},
   "outputs": [],
   "source": [
    "#Ok, let's copy the hdu_list[1].data into a simpler variable for ease of use\n",
    "spectrum = hdu_list[1].data\n",
    "\n",
    "#Now it's time to plot the spectrum\n",
    "plt.figure(figsize=[8,4])\n",
    "#plt.plot(******INSERT YOUR CODE HERE*****)\n",
    "#plt.xlim(******INSERT LIMITS******)\n",
    "#plt.ylim(******INSERT LIMITS******)\n",
    "plt.xlabel(r\"Wavelength ($\\AA$)\")\n",
    "plt.ylabel(r\"Flux (ergs/cm^2/s/A)\")\n",
    "plt.show()"
   ]
  },
  {
   "cell_type": "markdown",
   "id": "97c33437-eebe-4b01-9903-0150be81a955",
   "metadata": {},
   "source": [
    "Also included in this folder are the transmission filters for the Johnson B and V bands. The code snippet below plots the response curve for the B band - add the code to plot the V band also"
   ]
  },
  {
   "cell_type": "code",
   "execution_count": null,
   "id": "1a70756a-da6c-436c-8beb-edcd7bac69cb",
   "metadata": {},
   "outputs": [],
   "source": [
    "B_filter = np.genfromtxt(\"Johnson_B.dat\")\n",
    "V_filter = np.genfromtxt(\"Johnson_V.dat\")\n",
    "\n",
    "plt.figure(figsize=[8,4])\n",
    "plt.plot(B_filter[:,0],B_filter[:,1],'C0-',label=\"Johnson B Transmission curve\")\n",
    "plt.xlabel(r\"Wavelength ($\\AA$)\")\n",
    "plt.ylabel(r\"Flux (ergs/cm^2/s/A)\")\n",
    "plt.legend()\n",
    "plt.show()"
   ]
  },
  {
   "cell_type": "markdown",
   "id": "ca905a8c-4ccb-47c2-8c2b-58ad5d878cb1",
   "metadata": {},
   "source": [
    "The next code block is the important one for our purposes. We want to estimate what the flux density of our source is in each filter. To do this, we need to code the following function:\n",
    "$$\n",
    "    f_{B} = \\frac{\\int S_B F_{\\lambda} d \\lambda}{\\int S_B d \\lambda}\n",
    "$$\n",
    "for the B filter, where $S_B$ and $F_{\\lambda}$ is our spectrum. This will require you to numerically integrate $S_B F_{\\lambda}$ and $S_B$."
   ]
  },
  {
   "cell_type": "code",
   "execution_count": null,
   "id": "8649be8e-0803-47b3-a2ab-e8e042d178f4",
   "metadata": {},
   "outputs": [],
   "source": [
    "def integrate(spec,filt):\n",
    "    #Define your integration function in here\n",
    "    return flux/response\n",
    "\n",
    "# Defining a blackbody curve over the wavelength range of our filters\n",
    "wav = V_filter[:,0] * u.AA\n",
    "flux = spectrum['Flux']* u.erg/u.cm**2/u.s/u.AA\n",
    "\n",
    "#Calculating the fluxes in each band\n",
    "B_flux = integrate(flux,B_filter)\n",
    "V_flux = integrate(flux,V_filter)\n",
    "\n",
    "print(B_flux)\n",
    "print(V_flux)"
   ]
  },
  {
   "cell_type": "markdown",
   "id": "c861dd65-279a-4b53-b40a-4a895cf73667",
   "metadata": {},
   "source": [
    "Now, to convert these fluxes to magnitudes, you need the reference fluxes for Vega in each filter (remembering that for the Johnson filters, the zeropoints are set such that Vega has a magnitude of 0 in all filters). For the B band, the flux of Vega is 6.1954e-09 erg / (Angstrom cm2 s). For the V band, it's 3.5650e-09 erg / (Angstrom cm2 s). In the below, replace f1 and f2 with the correct values."
   ]
  },
  {
   "cell_type": "code",
   "execution_count": null,
   "id": "45b735a4-6587-4e37-afa0-b47d08bf6c3e",
   "metadata": {},
   "outputs": [],
   "source": [
    "print(\"The apparent B band magnitude of the star is: \",)#-2.5*np.log10(f1/f2))\n",
    "print(\"The apparent V band magnitude of the star is: \",)#-2.5*np.log10(f1/f2))"
   ]
  },
  {
   "cell_type": "markdown",
   "id": "fedaed91-508a-4f94-a15b-9536a6f255df",
   "metadata": {},
   "source": [
    "## Part 2 - Calculate the distance and absolute magnitudes, and plot it on the H-R diagram"
   ]
  },
  {
   "cell_type": "markdown",
   "id": "a274dd7e-0ec5-43c4-8ff7-174499009767",
   "metadata": {},
   "source": [
    "The parallax of this source is  3.70 milli arcseconds - from this, estimate the stars distance, and absolute magnitudes in both the B and V bands."
   ]
  },
  {
   "cell_type": "code",
   "execution_count": null,
   "id": "f5b264b2-366f-4e5c-b24e-f0d6beb4c9a3",
   "metadata": {},
   "outputs": [],
   "source": [
    "#Insert code to calculate the distace, and absolute magnitude of the source in both the V and B bands.\n",
    "\n",
    "\n"
   ]
  },
  {
   "cell_type": "markdown",
   "id": "4632a95a-f328-4d7f-9584-1c79d521f970",
   "metadata": {},
   "source": [
    "The next step is to add this to a H-R diagram, and estimate the temperature of the star. The code below will load in the relevant data and plot a H-R diagram (as individual pointsin black, and then as a density in colour). You just need to add the source by plotting its absolute V magnitude versus its colour (B-V)."
   ]
  },
  {
   "cell_type": "code",
   "execution_count": null,
   "id": "22095706-7e83-42a7-a20e-5592d50ab288",
   "metadata": {},
   "outputs": [],
   "source": [
    "HR_B_V, HR_V, HR_L, HR_teff = np.load(\"gaia_dat.npy\")\n",
    "\n",
    "fig=plt.figure(figsize=[8,8])\n",
    "ax=fig.add_subplot(111, label=\"1\")\n",
    "ax.hist2d(HR_B_V, HR_V, bins=100, cmin=10, norm=colors.PowerNorm(0.5), zorder=0.5, cmap='magma',alpha=0.5)\n",
    "ax.scatter(HR_B_V, HR_V, alpha=0.2, s=3, color='k', zorder=0,rasterized=True)\n",
    "\n",
    "# ax.plot(colour,absolute magnitude, 'C0.', markersize=10, zorder=10) # Add your star here\n",
    "\n",
    "ax.set_ylim(-3.0,15.2)\n",
    "ax.set_xlim(-0.8,5.3)\n",
    "ax.invert_yaxis()\n",
    "ax.set_xlabel(r'$B-V$')\n",
    "ax.set_ylabel(r'$V$')\n",
    "\n",
    "plt.show()"
   ]
  },
  {
   "cell_type": "markdown",
   "id": "0f068d98-b3de-48a6-9238-98f05f84565b",
   "metadata": {},
   "source": [
    "# Part 3 - See if you can identify the source (by looking at the fits header perhaps), and give a reason as to why it lies where it does on the H-R diagram (is it a main sequence star, is it a giant, is it a dwarf?)"
   ]
  },
  {
   "cell_type": "code",
   "execution_count": null,
   "id": "de4c6386-1191-4bcd-b17e-215f789335ed",
   "metadata": {},
   "outputs": [],
   "source": []
  }
 ],
 "metadata": {
  "kernelspec": {
   "display_name": "Python 3 (ipykernel)",
   "language": "python",
   "name": "python3"
  },
  "language_info": {
   "codemirror_mode": {
    "name": "ipython",
    "version": 3
   },
   "file_extension": ".py",
   "mimetype": "text/x-python",
   "name": "python",
   "nbconvert_exporter": "python",
   "pygments_lexer": "ipython3",
   "version": "3.8.10"
  }
 },
 "nbformat": 4,
 "nbformat_minor": 5
}
