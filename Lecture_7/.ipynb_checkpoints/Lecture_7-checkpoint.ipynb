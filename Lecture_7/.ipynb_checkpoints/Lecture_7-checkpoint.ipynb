{
 "cells": [
  {
   "cell_type": "markdown",
   "id": "2983c76d-aad1-4098-8210-605ad2872370",
   "metadata": {},
   "source": [
    "# Radio Astronomy"
   ]
  },
  {
   "cell_type": "markdown",
   "id": "c72fbafd-e4cc-4508-bea2-653e33e8e46a",
   "metadata": {},
   "source": [
    "## Interferometry"
   ]
  },
  {
   "cell_type": "markdown",
   "id": "78887e4e-26ec-481c-94eb-db59e13a64bd",
   "metadata": {},
   "source": [
    "We finished our discussion last week by looking at how interferometry works. With this method, the condition required for two sources to be resolved is that the difference in the additional path length photons must travel to reach the second telescope is $c \\Delta t \\sim \\lambda$, such that the photons from the source which is $\\Delta \\theta$ away from source which is on axis are still arriving in phase and may be combined coherently.\n",
    "\n",
    "For radio wavelengths (say 10cm), this can be done by accurately time tagging data as it arrives. After all, for $\\lambda =$10 cm, $\\Delta t=$ 0.3 nanoseconds. Such a high accuracy in timing is achievable using GPS, meaning the data can be recorded, digitised, and combined in a correlator.\n",
    "\n",
    "However, if we wanted to carry out interferometry at optical wavelengths, things becomes trickier. Assume a wavelenght of $\\lambda=500$ nm. Then $\\Delta t=$ 1.6 femtoseconds. As such, time tagging data becomes much more difficult. Instead, the handful of optical interferometers which exist (Very Large Telescope Interferometer or the Large Binocular Telescope interfermeter) employ mirrors to redirect light from each mirror into a chamber where the photons can be interferred directly."
   ]
  },
  {
   "cell_type": "markdown",
   "id": "8ce0c3d5-e654-4a49-b1ac-fc52103ba2e3",
   "metadata": {},
   "source": [
    "# X-ray Astronomy"
   ]
  },
  {
   "cell_type": "code",
   "execution_count": null,
   "id": "70b5e7c3-8c02-450c-b488-49ec04349cea",
   "metadata": {},
   "outputs": [],
   "source": []
  }
 ],
 "metadata": {
  "kernelspec": {
   "display_name": "Python 3 (ipykernel)",
   "language": "python",
   "name": "python3"
  },
  "language_info": {
   "codemirror_mode": {
    "name": "ipython",
    "version": 3
   },
   "file_extension": ".py",
   "mimetype": "text/x-python",
   "name": "python",
   "nbconvert_exporter": "python",
   "pygments_lexer": "ipython3",
   "version": "3.8.10"
  }
 },
 "nbformat": 4,
 "nbformat_minor": 5
}
