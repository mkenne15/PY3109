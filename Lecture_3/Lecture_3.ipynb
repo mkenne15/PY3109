{
 "cells": [
  {
   "cell_type": "markdown",
   "id": "1a50de9a-2ae2-434b-a259-41b398e5797f",
   "metadata": {
    "tags": []
   },
   "source": [
    "### Key Question\n",
    "\n",
    "How do we convey the positions of stars in the night sky to people who are observing from a different place on the Earths surface, or who live at different time to us (and make sense of observations taken thousands of years ago)? Defining a coordinate system which accounts for the tilt and precession of the Earths spin axis relative to the Sun-Earth orbital plane is non-trivial, and in order to understand it, we must go back to the ancient Greeks."
   ]
  },
  {
   "cell_type": "markdown",
   "id": "b6eebc90-5a41-42b6-a2c3-157c8b2a2134",
   "metadata": {},
   "source": [
    "#### Aside: Proper motion\n",
    "Next, we consider the effects of a stars proper motion across the night sky. Consider an observer, and a star with velocity **v** as shown below. In spherical coordinates, this velocity has two components - a radial component, $v_{\\rm r}$, and an angular component $v_{\\rm \\theta}$. If we're tracking a stars position across the celestial sphere, then we are only measuring $v_{\\rm \\theta}$, which is known as the **transverse velocity**. Now, consider a time interval $\\Delta t$. Over this time, an object will have moved a distance $\\Delta d$ relative to our line of sight\n",
    "$$\n",
    " \\Delta d = v_{\\rm \\theta} \\Delta t.\n",
    "$$\n",
    "If the distance, r, to the object is known, then the angular change across the celestial sphere is given by\n",
    "$$\n",
    " \\Delta \\theta = \\frac{\\Delta d}{r} = \\frac{v_{\\rm \\theta} \\Delta t}{r}.\n",
    "$$\n",
    "The **proper motion** of an object, that is the change of this angle with time, is then given by\n",
    "$$\n",
    " \\mu \\equiv \\frac{d \\theta}{d t} = \\frac{v_{\\rm \\theta}}{r}.\n",
    "$$\n",
    "\n",
    "So, in practice, what is the expression for $\\theta$? Consider a star which moves between point A and B on the celestial sphere, as shown below.\n",
    "\n",
    "![Celestial Sphere_RA_Dec](Images/Proper_motion.png)\n",
    "\n",
    "First, we can write the expression:\n",
    "$$\n",
    "    \\frac{\\sin{\\Delta\\theta}}{\\sin{\\Delta\\alpha}} = \\frac{\\sin(90^{\\rm o}-(\\delta+\\Delta\\delta))}{\\sin{\\phi}}\n",
    "$$\n",
    "This can  be rewritten as \n",
    "$$\n",
    "    \\sin\\Delta\\alpha \\cos(\\delta+\\Delta\\delta) = \\sin\\Delta\\theta \\sin\\phi.\n",
    "$$\n",
    "Now using the small angle approximation for anything with $\\Delta\\delta$ in it (which is likely true for objects moving across the night sky!), we get\n",
    "$$\n",
    "    \\Delta\\alpha \\cos(\\delta+\\Delta\\delta) = \\Delta\\theta \\sin\\phi.\n",
    "$$\n",
    "$\\cos(\\delta+\\Delta\\delta)$ can be Taylor expanded around $\\Delta\\delta\\sim0$ to give\n",
    "$$\n",
    "    \\cos(\\delta+\\Delta\\delta) = \\cos(\\delta)-\\Delta\\delta\\sin(\\delta)+... \\approx \\cos(\\delta)\n",
    "$$\n",
    "which then leaves us with \n",
    "$$\n",
    "    \\Delta\\alpha = \\Delta\\theta \\frac{\\sin\\phi}{\\cos(\\delta)}.\n",
    "$$\n",
    "Now, in order to solve for $\\Delta\\theta$ and remove $\\phi$, we need to use the law of cosines:\n",
    "$$\n",
    "\\cos[90^{\\rm o}-(\\delta+\\Delta\\delta)]=\\cos(90^{\\rm o}-\\delta)\\cos(\\Delta\\theta)+\\sin(90^{\\rm o}-\\delta)\\sin(\\Delta\\theta)\\cos(\\phi)\n",
    "$$\n",
    "Which, by substituing $\\cos[90^{\\rm o}-(\\delta+\\Delta\\delta)]=\\sin(\\delta+\\Delta\\delta)=\\sin(\\delta)\\cos(\\Delta\\delta)+\\cos(\\delta)\\sin(\\Delta\\delta)$ and using the small angle approximation becomes\n",
    "$$\n",
    "    \\Delta\\delta=\\Delta\\theta\\cos\\phi\n",
    "$$\n",
    "Cominbing this with the equation above gives\n",
    "$$\n",
    "    (\\Delta\\theta)^2=(\\Delta\\delta)^2+(\\Delta\\alpha\\cos\\delta)^2\n",
    "$$\n",
    "This gives a very handy expression for calculating the angular separation between two objects."
   ]
  },
  {
   "cell_type": "code",
   "execution_count": null,
   "id": "636033f4-fb85-43fa-ba1c-f0f7fa86c715",
   "metadata": {},
   "outputs": [],
   "source": []
  }
 ],
 "metadata": {
  "kernelspec": {
   "display_name": "Python 3 (ipykernel)",
   "language": "python",
   "name": "python3"
  },
  "language_info": {
   "codemirror_mode": {
    "name": "ipython",
    "version": 3
   },
   "file_extension": ".py",
   "mimetype": "text/x-python",
   "name": "python",
   "nbconvert_exporter": "python",
   "pygments_lexer": "ipython3",
   "version": "3.8.10"
  }
 },
 "nbformat": 4,
 "nbformat_minor": 5
}
