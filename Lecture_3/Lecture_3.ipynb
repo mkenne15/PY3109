{
 "cells": [
  {
   "cell_type": "code",
   "execution_count": 51,
   "id": "e697e90b-41dd-4887-abdb-f86948f361cd",
   "metadata": {
    "tags": []
   },
   "outputs": [],
   "source": [
    "# Importing necessary modules\n",
    "import numpy as np\n",
    "import matplotlib.pyplot as plt\n",
    "from astropy.time import Time\n",
    "from astropy import units as u\n",
    "from datetime import datetime,timedelta\n",
    "from astropy.coordinates import solar_system_ephemeris, EarthLocation, get_sun"
   ]
  },
  {
   "cell_type": "markdown",
   "id": "1a50de9a-2ae2-434b-a259-41b398e5797f",
   "metadata": {
    "tags": []
   },
   "source": [
    "<div class=\"alert alert-block alert-success\">\n",
    "<b> Key Question </b> \n",
    "Now that we can position stars on the celestial sphere, what effects do we need to account for?\n",
    "</div>"
   ]
  },
  {
   "cell_type": "markdown",
   "id": "a014077d-2fb0-46c1-969a-f885854953d5",
   "metadata": {},
   "source": [
    "## Precession of the Earth's rotational axis"
   ]
  },
  {
   "cell_type": "markdown",
   "id": "0ae3108f-66aa-493d-b6fb-095ae43c3856",
   "metadata": {},
   "source": [
    "The Earth's rotational axis precesses around it's orbital axis with a period of 26,000 years, with the angle between the rotational axis and orbital axis being 23.6$^{\\rm o}$. This causes a very slow shift in the positions of the stars, and is one of the reasons a reference epoch for coordinates is specified.\n",
    "\n",
    "Consider the diagram below. Right now, the Celestial North Pole is pointing approximately towards Polaris. However, in 13,000 years, the NCP will be pointing away from Polaris, meaning it will no longer be the North star.\n",
    "\n",
    "![Celestial Sphere](Images/Precession.png)\n"
   ]
  },
  {
   "cell_type": "markdown",
   "id": "b8637ec1-6df5-4c74-ac1e-54e2de2232b0",
   "metadata": {},
   "source": [
    "## Annual Aberration"
   ]
  },
  {
   "cell_type": "markdown",
   "id": "0e04b84e-5a4c-4250-84f7-2daf375619ab",
   "metadata": {},
   "source": [
    "Consider a star which is on the ecliptic. If we were stationary (or on the sun), then we would have to point our telescope at an angle of \n",
    "\n",
    "$$\n",
    "\\tan\\theta=\\frac{u_{\\rm y}}{u_{\\rm x}}\n",
    "$$\n",
    "\n",
    "where $u_{\\rm y}$ is the velocity component of the photon coming from the star in the y-direction, and $u_{\\rm x}$ in the x-direction. Now, the consider an observer on the Earth, moving with velocity **v**=$v_{\\rm x}+v_{\\rm y}$.\n",
    "\n",
    "![Aberration](Images/Aberration_1_alternative.png)\n",
    "\n",
    "In the primed frame, the photon will have velocity components $u'_{\\rm x} = u_{\\rm x}+v_{\\rm x}$ and $u'_{\\rm y} = u_{\\rm y}+u_{\\rm y}$. As such, the angle the telescope will need to be pointed at, $\\phi$, is\n",
    "\n",
    "$$\n",
    "\\tan \\phi=\\frac{u_{\\rm y}+v_{\\rm y}}{u_{\\rm x}+v_{\\rm x}}=\\frac{\\sin \\theta +v_{\\rm y}/c}{\\cos \\theta+v_{\\rm x}/c}\n",
    "$$\n",
    "\n",
    "Now take the extreme example where $\\theta=90^{\\rm o}$, and the Earth is moving with velocity v=30 km/s in the x direction. The above expression becomes\n",
    "\n",
    "$$\n",
    "\\tan \\phi=\\frac{c}{v}\n",
    "$$\n",
    "\n",
    "The difference between $\\theta$ and $\\phi$ (that is, the offset we need to include when pointing our telescope) is then\n",
    "\n",
    "$$\n",
    "\\tan(\\theta-\\phi)=\\frac{v}{c}\n",
    "$$\n",
    "\n",
    "The Earth's velocity is $v= \\textbf{v}=30$ km/s, and so the telescope must point with an angle offset of 20.6\".\n",
    "\n",
    "Now consider this effect over one year. When the velocity of Earth is perpendicular to the incoming star light (points D and B), we see a maximum of this effect, while when the velocity is parallel to the photon's velocity, we see no effect (A/C). This means over the year, the star moves along a line on the ecliptic with a maximum displacement of 41.2\".\n",
    "\n",
    "![Aberration_2](Images/Aberration_2_alternative.png)\n",
    "\n",
    "\n",
    "Stars off the ecliptic by an angle $\\theta$ become more complex to deal with, and at maximum gain an additional angular component perpendicular to the ecliptic, causing them to trace out ellipses in the night sky. Stars at 90 degrees to  the ecliptic trace out a circle.\n",
    "\n",
    "Our treatment above is purely classical, but suffices for our purposes. The full treatment requires special relativity, and this annual aberration caused significant confusion up until special relativity was proposed (I highly recommend reading the wikipedia article on this if you're interested, but it's not necessary for the course)."
   ]
  },
  {
   "cell_type": "markdown",
   "id": "37a16d26-e4cb-4b46-bef9-606ba684e38c",
   "metadata": {},
   "source": [
    "## Airmass & Extinction"
   ]
  },
  {
   "cell_type": "markdown",
   "id": "4d4dca9d-83ee-47a9-a0c0-8c945bb2c996",
   "metadata": {},
   "source": [
    "The Earth's atmosphere absorbs light, and the amount of light absorbed depends on the angle of the star above the horizon. If we didn't correct this effect, observations of objects at different times of night would give different magnitudes! We'll see how to correct for extinction below, but first we need to work out how extinction depends on the angle of the star above the horizon.\n",
    "\n",
    "We can derive a simple equation for the extinction correction by assuming the atmosphere is a series of thin plane-parallel layers. The figure below shows such a layer, of thickness dx at an altitude x. The path length through the layer for light from a star at a zenith distance $z$ is equal to $dx/cosz=dxsecz$. The term $secz$ is known as the airmass, and is sometimes given the symbol X. \n",
    "\n",
    "At the zenith, $X=secz=1$, and this increases to a value of 2 at a zenith distance of 60$^{\\rm o}$. Note that the approximation of the atmosphere as being plane-parallel breaks down at larger zenith distances. Due to the amount of extinction, it's a bad idea to observe astronomical objects this low, so we shall not worry about the curvature of the atmosphere here.\n",
    "\n",
    "![Aberration_2](Images/Airmass.png)\n",
    "\n",
    "If the monochromatic flux from an object incident on the layer is $F_{\\lambda}$ then the flux absorbed by the layer $dF_{\\lambda}$ will be proportional to both $F_{\\lambda}$ and the path length through the layer. Therefore:\n",
    "$$\n",
    "dF_{\\lambda}=−\\alpha_\\lambda F_{\\lambda} \\sec z dx,\n",
    "$$\n",
    "\n",
    "where the constant of proportionality, $\\alpha_\\lambda$ is known as the absorption coefficient, with units of m$^{-1}$. The absorption coefficient is a function of the composition and density of the atmosphere, and hence the altitude of the layer, x. We can re-arrange this equation (and drop the $\\lambda$ subscripts for clarity) to give\n",
    "$$\n",
    "\\frac{dF}{F}=−\\sec z \\: \\alpha \\: dx.\n",
    "$$\n",
    "Integrating the equation above for x values from the top of the atmosphere, t, to the bottom b, we obtain\n",
    "$$\n",
    "\\int ^b _t \\frac{dF}{F} =−\\sec z \\: \\int ^b _t \\alpha \\: dx.\n",
    "$$\n",
    "\n",
    "Hence\n",
    "$$\n",
    "\\frac{F_b}{F_t}=\\frac{F}{F_0}=\\exp\\left(−\\sec z \\: \\int ^b _t \\alpha \\: dx\\right)\n",
    "$$\n",
    "We'll be coming back to this equation in a later lecture, but it's useful to derive it now."
   ]
  },
  {
   "cell_type": "markdown",
   "id": "d108c1a8-5952-4d4f-b395-5ec1fa177332",
   "metadata": {},
   "source": [
    "## Equation of Time"
   ]
  },
  {
   "cell_type": "markdown",
   "id": "3218671b-86ed-4d66-9185-1bff08f967b8",
   "metadata": {},
   "source": [
    "Consider again the position of the Sun on the celestial sphere. If we used a sundial to time how long it took between consecutive passes of the Sun through the meridian, and also measured out 24 hours, what would it look like? If the orbit of the Earth were perfectly circular and the rotational axis of the Earth was perpendicular to the orbital plane, it should always be 0.\n",
    "\n",
    "However, our orbit is elliptical and the Earth's rrotational axis is not perpendicular to the orbital plane (obliquity). As such, the time between transits (Apparent Solar Time) is different to the time measured using a stop watch (Mean Solar Time), as shown in the plot below. This correction is known as the Equation of Time.\n",
    "\n",
    "This means if you were timing your days using the Sun, you would be slower in June and November than if you used a stopwatch, and faster in January and August."
   ]
  },
  {
   "cell_type": "code",
   "execution_count": 62,
   "id": "bdf5a1d8-3a61-4926-a0ff-88d7d559e790",
   "metadata": {},
   "outputs": [
    {
     "data": {
      "image/png": "[encoded data removed]",
      "text/plain": [
       "<Figure size 576x302.4 with 1 Axes>"
      ]
     },
     "metadata": {
      "needs_background": "light"
     },
     "output_type": "display_data"
    }
   ],
   "source": [
    "base = datetime(2022,3,20,12,0,0,0)\n",
    "times = [base - timedelta(days=x) for x in range(365)]\n",
    "ts = Time(times,format='datetime',scale='utc') #Convering the MJDs to a Time format which Astropy can read.\n",
    "with solar_system_ephemeris.set('builtin'):\n",
    "    sun = get_sun(ts) # Get the location of the Sun\n",
    "EoT = (sun.ra-ts.sidereal_time(\"mean\",\"greenwich\"))\n",
    "EoT[EoT<-300*u.deg]=EoT[EoT<-300*u.deg]+360*u.deg\n",
    "\n",
    "plt.figure(figsize=(8,4.2))\n",
    "plt.subplot(111)\n",
    "plt.grid(True)\n",
    "plt.plot(times,EoT.hour*60)\n",
    "plt.xlabel(\"Calendar Date\")\n",
    "plt.ylabel(\"Time Delay (mins)\")\n",
    "plt.savefig(\"Images/EoT.svg\")\n",
    "plt.show()"
   ]
  },
  {
   "cell_type": "markdown",
   "id": "6938febb-bfa5-4e09-b60e-79f275c1e6da",
   "metadata": {},
   "source": [
    "## Proper Motion"
   ]
  },
  {
   "cell_type": "markdown",
   "id": "b6eebc90-5a41-42b6-a2c3-157c8b2a2134",
   "metadata": {},
   "source": [
    "\n",
    "Next, we consider the effects of a stars proper motion across the night sky. Consider an observer, and a star with velocity **v** as shown below. In spherical coordinates, this velocity has two components - a radial component, $v_{\\rm r}$, and an angular component $v_{\\rm \\theta}$. If we're tracking a stars position across the celestial sphere, then we are only measuring $v_{\\rm \\theta}$, which is known as the **transverse velocity**. Now, consider a time interval $\\Delta t$. Over this time, an object will have moved a distance $\\Delta d$ relative to our line of sight\n",
    "$$\n",
    " \\Delta d = v_{\\rm \\theta} \\Delta t.\n",
    "$$\n",
    "If the distance, r, to the object is known, then the angular change across the celestial sphere is given by\n",
    "$$\n",
    " \\Delta \\theta = \\frac{\\Delta d}{r} = \\frac{v_{\\rm \\theta} \\Delta t}{r}.\n",
    "$$\n",
    "The **proper motion** of an object, that is the change of this angle with time, is then given by\n",
    "$$\n",
    " \\mu \\equiv \\frac{d \\theta}{d t} = \\frac{v_{\\rm \\theta}}{r}.\n",
    "$$\n",
    "\n",
    "So, in practice, what is the expression for $\\theta$? Consider a star which moves between point A and B on the celestial sphere, as shown below.\n",
    "\n",
    "![Celestial Sphere_RA_Dec](Images/Proper_motion.png)\n",
    "\n",
    "First, we can write the expression:\n",
    "$$\n",
    "    \\frac{\\sin{\\Delta\\theta}}{\\sin{\\Delta\\alpha}} = \\frac{\\sin(90^{\\rm o}-(\\delta+\\Delta\\delta))}{\\sin{\\phi}}\n",
    "$$\n",
    "This can  be rewritten as \n",
    "$$\n",
    "    \\sin\\Delta\\alpha \\cos(\\delta+\\Delta\\delta) = \\sin\\Delta\\theta \\sin\\phi.\n",
    "$$\n",
    "Now using the small angle approximation for anything with $\\Delta\\delta$ in it (which is likely true for objects moving across the night sky!), we get\n",
    "$$\n",
    "    \\Delta\\alpha \\cos(\\delta+\\Delta\\delta) = \\Delta\\theta \\sin\\phi.\n",
    "$$\n",
    "$\\cos(\\delta+\\Delta\\delta)$ can be Taylor expanded around $\\Delta\\delta\\sim0$ to give\n",
    "$$\n",
    "    \\cos(\\delta+\\Delta\\delta) = \\cos(\\delta)-\\Delta\\delta\\sin(\\delta)+... \\approx \\cos(\\delta)\n",
    "$$\n",
    "which then leaves us with \n",
    "$$\n",
    "    \\Delta\\alpha = \\Delta\\theta \\frac{\\sin\\phi}{\\cos(\\delta)}.\n",
    "$$\n",
    "Now, in order to solve for $\\Delta\\theta$ and remove $\\phi$, we need to use the law of cosines:\n",
    "$$\n",
    "\\cos[90^{\\rm o}-(\\delta+\\Delta\\delta)]=\\cos(90^{\\rm o}-\\delta)\\cos(\\Delta\\theta)+\\sin(90^{\\rm o}-\\delta)\\sin(\\Delta\\theta)\\cos(\\phi)\n",
    "$$\n",
    "Which, by substituing $\\cos[90^{\\rm o}-(\\delta+\\Delta\\delta)]=\\sin(\\delta+\\Delta\\delta)=\\sin(\\delta)\\cos(\\Delta\\delta)+\\cos(\\delta)\\sin(\\Delta\\delta)$ and using the small angle approximation becomes\n",
    "$$\n",
    "    \\Delta\\delta=\\Delta\\theta\\cos\\phi\n",
    "$$\n",
    "Cominbing this with the equation above gives\n",
    "$$\n",
    "    (\\Delta\\theta)^2=(\\Delta\\delta)^2+(\\Delta\\alpha\\cos\\delta)^2\n",
    "$$\n",
    "This gives a very handy expression for calculating the angular separation between two objects."
   ]
  },
  {
   "cell_type": "code",
   "execution_count": null,
   "id": "636033f4-fb85-43fa-ba1c-f0f7fa86c715",
   "metadata": {},
   "outputs": [],
   "source": []
  }
 ],
 "metadata": {
  "kernelspec": {
   "display_name": "Python 3 (ipykernel)",
   "language": "python",
   "name": "python3"
  },
  "language_info": {
   "codemirror_mode": {
    "name": "ipython",
    "version": 3
   },
   "file_extension": ".py",
   "mimetype": "text/x-python",
   "name": "python",
   "nbconvert_exporter": "python",
   "pygments_lexer": "ipython3",
   "version": "3.8.10"
  }
 },
 "nbformat": 4,
 "nbformat_minor": 5
}
