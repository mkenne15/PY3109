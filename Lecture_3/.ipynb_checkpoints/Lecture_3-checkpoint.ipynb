{
 "cells": [
  {
   "cell_type": "markdown",
   "id": "98834276-e4ea-4791-9a46-6a77eb8ef045",
   "metadata": {},
   "source": [
    "# Positional Astronomy (Continued)\n",
    "\n",
    "## Reference Epochs\n",
    "So we have this coordinate system where an objects position is given in:\n",
    "- Right Ascension, $\\alpha$, in units of hour angle.\n",
    "- Declination, $\\delta$, in units of degrees.\n",
    "\n",
    "![Celestial Sphere_RA_Dec](Images/Figure_1.png)\n",
    "\n",
    "While this system is independant of the rotation of the Earth because we are defining everything relative to a fixed point ($\\gamma$, the location at which the ecliptic intersects the celestial equator at the spring equinox), it is **not** independant of the precession of the Earth's axis. So, we must specify an epoch which the coordiantes are correct for. The most common epoch is the J2000 epoch, which uses a reference date of noon at Greenwich on January 1 2000. Whenan object coordinates are given with this epoch, they can then be precessed to match the current observation date. The other common reference epoch is B1950, which is midnight on January 1, 1950.\n",
    "\n",
    "## Proper motion\n",
    "Next, we consider the effects of a stars proper motion across the night sky. Consider an observer, and a star with velocity **v** as shown below. In spherical coordinates, this velocity has two components - a radial component, $v_{\\rm r}$, and an angular component $v_{\\rm \\theta}$. If we're tracking a stars position across the celestial sphere, then we are only measuring $v_{\\rm \\theta}$, which is known as the **transverse velocity**. Now, consider a time interval $\\Delta t$. Over this time, an object will have moved a distance $\\Delta d$ relative to our line of sight\n",
    "$$\n",
    " \\Delta d = v_{\\rm \\theta} \\Delta t.\n",
    "$$\n",
    "If the distance, r, to the object is known, then the angular change across the celestial sphere is given by\n",
    "$$\n",
    " \\Delta \\theta = \\frac{\\Delta d}{r} = \\frac{v_{\\rm \\theta} \\Delta t}{r}.\n",
    "$$\n",
    "The **proper motion** of an object, that is the change of this angle with time, is then given by\n",
    "$$\n",
    " \\mu \\equiv \\frac{d \\theta}{d t} = \\frac{v_{\\rm \\theta}}{r}.\n",
    "$$\n",
    "\n",
    "So, in practice, what is the expression for $\\theta$? Consider a star which moves between point A and B on the celestial sphere, as shown below.\n",
    "\n",
    "![Celestial Sphere_RA_Dec](Images/Figure_2.png)\n",
    "\n",
    "First, we can write the expression:\n",
    "$$\n",
    "    \\frac{\\sin{\\Delta\\theta}}{\\sin{\\Delta\\alpha}} = \\frac{\\sin(90^{\\rm o}-(\\delta+\\Delta\\delta))}{\\sin{\\phi}}\n",
    "$$\n",
    "This can  be rewritten as \n",
    "$$\n",
    "    \\sin\\Delta\\alpha \\cos(\\delta+\\Delta\\delta) = \\sin\\Delta\\theta \\sin\\phi.\n",
    "$$\n",
    "Now using the small angle approximation for anything with $\\Delta\\delta$ in it (which is likely true for objects moving across the night sky!), we get\n",
    "$$\n",
    "    \\Delta\\alpha \\cos(\\delta+\\Delta\\delta) = \\Delta\\theta \\sin\\phi.\n",
    "$$\n",
    "$\\cos(\\delta+\\Delta\\delta)$ can be Taylor expanded around $\\Delta\\delta\\sim0$ to give\n",
    "$$\n",
    "    \\cos(\\delta+\\Delta\\delta) = \\cos(\\delta)-\\Delta\\delta\\sin(\\delta)+... \\approx \\cos(\\delta)\n",
    "$$\n",
    "which then leaves us with \n",
    "$$\n",
    "    \\Delta\\alpha = \\Delta\\theta \\frac{\\sin\\phi}{\\cos(\\delta)}.\n",
    "$$\n",
    "Now, in order to solve for $\\Delta\\theta$ and remove $\\phi$, we need to use the law of cosines:\n",
    "$$\n",
    "\\cos[90^{\\rm o}-(\\delta+\\Delta\\delta)]=\\cos(90^{\\rm o}-\\delta)\\cos(\\Delta\\theta)+\\sin(90^{\\rm o}-\\delta)\\sin(\\Delta\\theta)\\cos(\\phi)\n",
    "$$\n",
    "Which, by substituing $\\cos[90^{\\rm o}-(\\delta+\\Delta\\delta)]=\\sin(\\delta+\\Delta\\delta)=\\sin(\\delta)\\cos(\\Delta\\delta)+\\cos(\\delta)\\sin(\\Delta\\delta)$ and using the small angle approximation becomes\n",
    "$$\n",
    "    \\Delta\\delta=\\Delta\\theta\\cos\\phi\n",
    "$$\n",
    "Cominbing this with the equation above gives\n",
    "$$\n",
    "    (\\Delta\\theta)^2=(\\Delta\\delta)^2+(\\Delta\\alpha\\cos\\delta)^2\n",
    "$$"
   ]
  },
  {
   "cell_type": "markdown",
   "id": "a7ea0811-86e0-4eff-a249-1b598027553d",
   "metadata": {
    "tags": []
   },
   "source": [
    "## Observing from the Earths Surface\n",
    "### Declination\n",
    "Consider an observer standing on the surface of the Earth. The point directly above the observer is known as the zenith, and the line which joins the North celestial pole with the celestial equator that passes directly over head is known as the meridian. Stars are easiest to observe as they pass through the Meridian, as at that point in time, there is a minimum in the atmospheric depth the starlight must pass through to reach the observer.\n",
    "\n",
    "![Celestial Sphere_RA_Dec](Images/Figure_3.png)\n",
    "\n",
    "Also, any star whose declination matches the latitude of the observing site will pass through the Zenith. So, for Cork (a latitude of 52$^{o}$), any star that has a declination of +52$^{o}$ will be directly overhead at some stage during the day/night. \n",
    "\n",
    "The observing site also sets a relative horizon for the observer. Consider the image below (where we've moved the observer to the limb of the Earth for ease of drawing). The observer is at an latitude of $\\theta$. Any star which has a declination greater $90^{o}-\\theta$ will never set below the observers horizon (meaning they're always visible), while any star with a declination less than (-$90^{o}+\\theta$) will never rise (meaning they're never visible).\n",
    "\n",
    "![Celestial Sphere_RA_Dec](Images/Figure_4.png)\n",
    "\n",
    "**Example 1: Distance from Sirius to the Zenith**\n",
    "What is the minimum angular distance between Sirius and the zenith as viewed from Cork (latitude 52$^{o}$)? What altitude above the horizon will it be at this time?\n",
    "Sirius is (approximately) located at \n",
    "- $\\alpha$ = 06 hr 45 min\n",
    "- $\\delta$ = -16$^{o}$ 42'\n",
    "\n",
    "It will therefore be closest to the zenith when passing through the meridian ($\\Delta\\alpha$=0). At this time, the distance between the zenith and Sirius will be $52^{o}-(-16^{o} 42')=68^{o} 42'$. Since the distance between the zenith and the horizon is $90^{o}$, then the altitude of Sirius will be $90^{o}-68^{o} 42'=21^{o} 18'$."
   ]
  },
  {
   "cell_type": "markdown",
   "id": "c6797b6c-2f96-497b-9ce5-eb7dcd0872ab",
   "metadata": {},
   "source": [
    "### Right Ascension (Time)\n",
    "Solar (civil) dat is the time between successive passages of the Sun cross the meridian, and is 24 hours. In this time, the Earth rotates 361 degrees (the extra degree comes from the movement of Earth around the Sun throughout the day). \n",
    "\n",
    "The sidereal day is the same, but for successive passages of stars across the meridian. This is the **true** rotation of the Earth, and is 23 hrs and 56 mins."
   ]
  }
 ],
 "metadata": {
  "kernelspec": {
   "display_name": "Python 3 (ipykernel)",
   "language": "python",
   "name": "python3"
  },
  "language_info": {
   "codemirror_mode": {
    "name": "ipython",
    "version": 3
   },
   "file_extension": ".py",
   "mimetype": "text/x-python",
   "name": "python",
   "nbconvert_exporter": "python",
   "pygments_lexer": "ipython3",
   "version": "3.8.10"
  }
 },
 "nbformat": 4,
 "nbformat_minor": 5
}
