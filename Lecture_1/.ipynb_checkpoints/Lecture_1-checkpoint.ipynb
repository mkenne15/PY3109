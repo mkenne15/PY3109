{
 "cells": [
  {
   "cell_type": "markdown",
   "id": "d91afd13-7ad9-4754-96cb-fdc7cab9cd02",
   "metadata": {},
   "source": [
    "# PY3109: Observational Astrophysics\n",
    "\n",
    "**Module Objective:** To provide students with an overview of observational astrophysics.\n",
    "\n",
    "**Module Content**: Magnitude brightness scale, optical telescopes, introduction to radio, IR, UV, X-ray astronomy, Hertzsprung-Russell diagram, stellar spectra & classification, variable and binary stars.\n",
    "\n",
    "**Learning Outcomes**: On successful completion of this module, students should be able to:\n",
    "\n",
    "1. Perform simple numerical calculations covering a wide range of astronomical topics, inluding magnitude brightness scale, radio, IR, UV and X-ray astronomy.\n",
    "2. Explain the theory of star formation, stellar atmospheres and stellar structure.\n",
    "3. Apply stellar structure theory to white dwarfs and neutron stars.\n",
    "4. Demonstrate the ability to perform astronomical observations and gather astronomical data.\n",
    "\n",
    "**Assessment**: Total Marks 100: Formal Written Examination 80 marks; Continuous Assessment 20 marks (10 assignments, 2 marks each)."
   ]
  },
  {
   "cell_type": "code",
   "execution_count": 2,
   "id": "fc1f7cfe-d43c-4f0d-818a-92b51e2b9813",
   "metadata": {
    "tags": []
   },
   "outputs": [],
   "source": [
    "#Setup cell importing modules used in this notebook\n",
    "import matplotlib.pyplot as plt\n",
    "import numpy as np\n",
    "from astropy.time import Time\n",
    "from astropy.coordinates import solar_system_ephemeris, EarthLocation\n",
    "from astropy.coordinates import get_body_barycentric, get_body, get_moon"
   ]
  },
  {
   "cell_type": "markdown",
   "id": "3cb716cd-0a1f-4bd0-b1df-72e89d732b1e",
   "metadata": {},
   "source": [
    "# Section 1: The Coordinate System\n",
    "**Relevant Literature**: Chapter 1 of Carroll and Ostlie"
   ]
  },
  {
   "cell_type": "markdown",
   "id": "6668ef10-013c-4d8c-9f00-5993c0faaf4b",
   "metadata": {},
   "source": [
    "<div class=\"alert alert-block alert-success\">\n",
    "<b> Key Question </b> \n",
    "How do we convey the positions of stars in the night sky to people who are observing from a different place on the Earths surface, or who live at different time to us (and make sense of observations taken thousands of years ago)? Defining a coordinate system which accounts for the tilt and precession of the Earths spin axis relative to the Sun-Earth orbital plane is non-trivial, and in order to understand it, we must go back to the ancient Greeks.\n",
    "</div>"
   ]
  },
  {
   "cell_type": "markdown",
   "id": "a0aa5148-2ff6-4aae-8f08-522f63b06fb8",
   "metadata": {},
   "source": [
    "## The evolution of the solar systems geometry - Geocentrism"
   ]
  },
  {
   "cell_type": "markdown",
   "id": "a14f9d44-71ba-4fac-be67-9478c9442f74",
   "metadata": {},
   "source": [
    "Humans have a long history of studying the position of stars in the night sky. One of the oldest models is the geocentric model, proposed by Plato. In this model, the Earth lies at the centre of everything, and the stars and planets are on a celestial sphere which is rotating around us\n",
    "\n",
    "![Geocentric Model](Images/Figure_1.png)\n",
    "\n",
    "This model works well at explaning the diurnal motion of stars, but the \"wandering stars\", or planets, could not be. These planets would slowly move West to East with respect to the fixed background stars, but would occassionally reverse direction before reverting back to West to East. An example of this movement is shown below for Venus."
   ]
  },
  {
   "cell_type": "code",
   "execution_count": 3,
   "id": "d4735a09-8aa4-42b2-a5c8-1b0d4a78f277",
   "metadata": {
    "tags": []
   },
   "outputs": [
    {
     "data": {
      "image/png": "[encoded data removed]",
      "text/plain": [
       "<Figure size 576x360 with 1 Axes>"
      ]
     },
     "metadata": {
      "needs_background": "light"
     },
     "output_type": "display_data"
    }
   ],
   "source": [
    "times = np.arange(57192,57322,2) #This is just arbitrary MJDs I've chosen, sampled at 2 day intervals.\n",
    "ts = Time(times,format='mjd',scale='utc') #Convering the MJDs to a Time format which Astropy can read.\n",
    "loc = EarthLocation.of_site('greenwich') #Our observations have to be taken somwhere, let's use Greenwich for ease of use.\n",
    "with solar_system_ephemeris.set('builtin'):\n",
    "    venus = get_body('venus', ts, loc) # Get the location of venus\n",
    "plt.figure(figsize=[8,5])\n",
    "plt.plot(venus.ra,venus.dec,'-') #Plotting the RA and Dec of venus\n",
    "plt.arrow(venus.ra.value[4],venus.dec.value[4],3,-1.5,width=0.3)\n",
    "plt.arrow(venus.ra.value[29],venus.dec.value[29],-2.5,0.7,width=0.3)\n",
    "plt.arrow(venus.ra.value[-4],venus.dec.value[-4],3,-0.9,width=0.3)\n",
    "plt.title(f\"Location of Venus from {ts[0].isot[:10]} to {ts[-1].isot[:10]}\")\n",
    "plt.ylabel(\"Dec (deg)\")\n",
    "plt.xlabel(\"RA (deg)\")\n",
    "plt.gca().invert_xaxis() #RA normally increases from right to left - we'll explain why this is later on\n",
    "plt.show()"
   ]
  },
  {
   "cell_type": "markdown",
   "id": "35c581ed-cf17-46a7-898a-63bc7a9500b1",
   "metadata": {},
   "source": [
    "Hipparchus proposed a slight augmentation to Plato's model to explain the retrograde motion of these planets. This model involed a system of circles. For any given planet, it rotated on an **epicycle** which in turn rotated on a larger **deferent** as below. This still didn't agree with the motion of the planets adequately, which led Ptolemy to augment the model by offsetting the Earth from the centre of the deferent and adding an **equant**. The planet still orbits the deferent centre, but it's assumed that $\\frac{d\\theta}{dt}$ is constant, which allows for a circular orbit to give the same observed effects as a body which is following an elliptical orbit. While still not perfect at predicting the motions of the planets, it could easily be adapted to new observations by adding in new circles.\n",
    "\n",
    "![Hipparchus Model](Images/Figure_2.png)"
   ]
  },
  {
   "cell_type": "markdown",
   "id": "c753b7f1-170b-4880-9793-262e5217c1d0",
   "metadata": {},
   "source": [
    "<div class=\"alert alert-block alert-error\">\n",
    "These models were incredibly precise at predicting the positions of stars, the requirement to constantly add new circles to explain the complex motion of the planets suggested that something was wrong with them.\n",
    "</div>"
   ]
  },
  {
   "cell_type": "markdown",
   "id": "0b2f1aed-8966-411a-a97d-a64b4d3b158c",
   "metadata": {},
   "source": [
    "## Heliocentrism"
   ]
  },
  {
   "cell_type": "markdown",
   "id": "6cf45783-f68c-4217-8d88-5213fbff96ce",
   "metadata": {},
   "source": [
    "It took until the 15th century to move away from this geocentric view of the solar system, when Nicolaus Copernicus proposed a heliocentric model of the planets. One immedate consequence of this was that the maximum angular distance of both Venus (47 degrees) and Mercury (28 degrees) meant that they had to lie within Earth's orbit, and that Mercury had to lie closest to the Sun.\n",
    "\n",
    "![Copernicus Model](Images/Figure_3.png)"
   ]
  },
  {
   "cell_type": "markdown",
   "id": "c77fb23c-9f72-477b-9538-0e743b8a99e3",
   "metadata": {},
   "source": [
    "The Copernican model of the Solar system could easily account for the retrograde motion of the planets, which was a major failing of any geocentric models. An example of how the sudden reversals in a planets direction of motion across the night sky is shown in the below Figure. The numbers indicate different observing times, starting from 1 and ending at 6. Between observation 3 and 4, Mars undergoes a \"reversal\" in the night sky.\n",
    "\n",
    "![Retrograde motion explained](Images/Figure_4.png)\n",
    "\n",
    "Heliocentrism also allows us to calculate the **true** (sidereal) orbital periods of the planets. Consider a planet which is further from Earth than the Sun. Conjunctions occur when all planets and the Sun lie on a straight line connecting their centres. In the below, when the Earth lies between the Sun and Mars, is called **opposition**. The time between successive oppositions is S, the synodic period. The sidereal period of the planet, P, can then be calculated using\n",
    "\n",
    "$$\n",
    "    \\frac{1}{S} = \\frac{1}{P_\\oplus}-\\frac{1}{P}\n",
    "$$\n",
    "\n",
    "where $P_\\oplus$ is the Earth's synodic period of 365.256308 days. Once P has been determined, Kepler's laws can then be used the separation between the Sun and the planet.\n",
    "\n",
    "![Synodic Period](Images/Figure_5.png)\n",
    "\n",
    "While elegant in explaining the motion of the planets, the heliocentric model was as accurate as the geocentric model when it came to predicting the positions of bodies in the night sky - mainly because Copernicus still required  that planets orbit in perfect circles. Epicycles were introduced into the Copernican model in order to have the predicted observations match positions.\n",
    "\n",
    "It wasn't until Kepler derived his laws and incorporated eccentricties into the orbits of planets that the accuraacy of positions increased by several orders of magnitudes, helping solidify the heliocentric model as the correct model."
   ]
  }
 ],
 "metadata": {
  "kernelspec": {
   "display_name": "Python 3 (ipykernel)",
   "language": "python",
   "name": "python3"
  },
  "language_info": {
   "codemirror_mode": {
    "name": "ipython",
    "version": 3
   },
   "file_extension": ".py",
   "mimetype": "text/x-python",
   "name": "python",
   "nbconvert_exporter": "python",
   "pygments_lexer": "ipython3",
   "version": "3.8.10"
  }
 },
 "nbformat": 4,
 "nbformat_minor": 5
}
