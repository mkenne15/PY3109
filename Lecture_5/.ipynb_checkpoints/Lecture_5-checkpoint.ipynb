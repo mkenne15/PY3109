{
 "cells": [
  {
   "cell_type": "markdown",
   "id": "206a847a-d862-4881-a91f-73b335fece61",
   "metadata": {},
   "source": [
    "### Key Question\n",
    "\n",
    "How do we measure the distances to stars, and define how bright stars are? Once we know these parameters, what can they tell us about the structure of our Galaxy, and the hierarchy of stars?"
   ]
  },
  {
   "cell_type": "markdown",
   "id": "55f09937-40cd-453e-89a7-20234860eda0",
   "metadata": {
    "tags": []
   },
   "source": [
    "## Flux and Magnitudes"
   ]
  },
  {
   "cell_type": "markdown",
   "id": "dd1358df-02cb-4e57-9fe4-84b4c090410b",
   "metadata": {},
   "source": [
    "**Relevant Literature**: Chapter 3.2 of Carroll and Ostlie"
   ]
  },
  {
   "cell_type": "markdown",
   "id": "bee6baa3-b2b3-4375-8e5c-119830dabef5",
   "metadata": {},
   "source": [
    "### Apparent Magnitude\n",
    "Assume we know the distance, $D$, to a star that has an intrinsic luminosity, $L$. This luminosity will be spread over the surface area of an sphere, so the flux, $F$ a telescope at Earth will measure is given by\n",
    "$$\n",
    "    F=\\frac{L}{4 \\pi D^2}\n",
    "$$\n",
    "Normally astronomers don't quote fluxes, but instead work in magnitudes. The conversion is\n",
    "$$\n",
    "    m=-2.5\\log_{10}\\left(\\frac{F}{C}\\right)\n",
    "$$\n",
    "where C is a normalising constant. With this definition, an object which is 100 brighter than another object ($F_2=100F_1$) corresponds to a magnitude difference ($m_1-m_2$) of 5. This means that an object which is 100 times brighter will have a magnitude which is 5 less - the magnitude system is an inverted scale (the more positive a magnitude is, the fainter it is). This scale originated with Hipparchus, who assigned $m=1$ for the brightest objects in the night sky, and $m=6$ for the faintest.\n",
    "\n",
    "The Sun has a magnitude of -27, while the faintest objects observable in the night sky have a magnitude of $\\sim$ +30. The naked eye can see as faint as magnitude $+6$ if conditions are exceptional. These magnitudes are known as **apparent magnitudes**, and are written as $m$.\n",
    "\n",
    "### Absolute Magnitude\n",
    "\n",
    "Another useful quantity that can be derived using the above equation is the absolute magnitude of a source, and is typically written as $M$. This is the magnitude a source would have if it were at a distance of 10 pc. To calculate what $M$ is, we use:\n",
    "$$\n",
    "    m-M=-2.5\\log_{10}\\left(\\frac{F}{C}\\right)+-2.5\\log_{10}\\left(\\frac{F_{10}}{C}\\right)\n",
    "$$\n",
    "where $F_{10}$ is the flux we would see if the object were at 10pc. This simplifies to\n",
    "$$\n",
    "    m-M=-2.5\\log_{10}\\left(\\frac{F}{F_{10}}\\right)\n",
    "$$\n",
    "Finally, remembering that $F=\\frac{L}{4 \\pi D^2}$, so $F_{10}=\\frac{L}{4 \\pi 10^2}$, we can simplify this further to\n",
    "$$\n",
    "    m-M=5\\log_{10}\\left(\\frac{D ({\\rm pc})}{10 ({\\rm pc})}\\right)\n",
    "$$\n",
    "So, if we know the distance to a source and its apparent magnitude, we can immediately calculate its absolute magnitude.\n",
    "\n",
    "### Observing Filters\n",
    "\n",
    "Before going any further, we need to discuss the constant in the above equation. Stars are observed using different filters, which cover different parts of the spectrum. The below figure shows the sensitivity curves for the SDSS (Sloan Digital Sky Survey) filters.\n",
    "\n",
    "![SDSS_filters](Images/Figure_1.png)\n",
    "\n",
    "These transmission curves tell us which part of the spectrum we are sensitive too when using them. For example, when using the $u$ filter, we are sensitive to light from $\\sim 3000-4000$ Å. These filters define the constant in the magnitude equation above. For the **Vega** system, the constants are chosen such that Vega has a magnitude of 0 in each band."
   ]
  },
  {
   "cell_type": "code",
   "execution_count": null,
   "id": "eb4b42b0-6984-4fb7-98e4-9dc9893975b5",
   "metadata": {},
   "outputs": [],
   "source": []
  }
 ],
 "metadata": {
  "kernelspec": {
   "display_name": "Python 3 (ipykernel)",
   "language": "python",
   "name": "python3"
  },
  "language_info": {
   "codemirror_mode": {
    "name": "ipython",
    "version": 3
   },
   "file_extension": ".py",
   "mimetype": "text/x-python",
   "name": "python",
   "nbconvert_exporter": "python",
   "pygments_lexer": "ipython3",
   "version": "3.8.10"
  }
 },
 "nbformat": 4,
 "nbformat_minor": 5
}
