{
 "cells": [
  {
   "cell_type": "code",
   "execution_count": 2,
   "id": "8dda3957-ae8e-42a8-a1d5-5e2274ebf4e1",
   "metadata": {},
   "outputs": [],
   "source": [
    "import numpy as np\n",
    "import matplotlib.pyplot as plt\n",
    "from astropy.utils.data import download_file\n",
    "from astropy.io import fits\n",
    "from astropy import units as u\n",
    "from astropy import constants as c\n",
    "from scipy import integrate"
   ]
  },
  {
   "cell_type": "code",
   "execution_count": 9,
   "id": "449a2748-7299-4ff4-aee7-01b48b472657",
   "metadata": {},
   "outputs": [],
   "source": [
    "spectrum_file = download_file('http://ssb.stsci.edu/cdbs/calspec/feige110_005.fits', cache=True)"
   ]
  },
  {
   "cell_type": "code",
   "execution_count": 10,
   "id": "350e4d20-d87d-4d1e-ad60-24658eb38c7f",
   "metadata": {},
   "outputs": [
    {
     "name": "stdout",
     "output_type": "stream",
     "text": [
      "Filename: /home/kennedy/.astropy/cache/download/url/ecf9048023a7dd6db8fcc7b78073dea7/contents\n",
      "No.    Name      Ver    Type      Cards   Dimensions   Format\n",
      "  0  PRIMARY       1 PrimaryHDU      35   ()      \n",
      "  1                1 BinTableHDU     28   5112R x 5C   [1E, 1E, 1E, 1E, 1E]   \n"
     ]
    },
    {
     "data": {
      "text/plain": [
       "SIMPLE  =                    T / Fits standard                                  \n",
       "BITPIX  =                   16 / Bits per pixel                                 \n",
       "NAXIS   =                    0 / Number of axes                                 \n",
       "EXTEND  =                    T / File may contain extensions                    \n",
       "DATE    = '2015-01-06T17:00:20' / Date FITS file was generated                  \n",
       "IRAF-TLM= '2015-01-06T17:00:24' / Time of last modification                     \n",
       "COMMENT   FITS (Flexible Image Transport System) format defined in Astronomy and\n",
       "COMMENT   Astrophysics Supplement Series v44/p363, v44/p371, v73/p359, v73/p365.\n",
       "COMMENT   Contact the NASA Science Office of Standards and Technology for the   \n",
       "COMMENT   FITS Definition document #100 and other FITS information.             \n",
       "ORIGIN  = 'STScI-STSDAS/TABLES' / Tables version 1999-03-22                     \n",
       "FILENAME= 'feige110_005.fits'  / name of file                                   \n",
       "DBTABLE = 'CRSPECTRUM'                                                          \n",
       "TARGETID= 'FEIGE110'                                                            \n",
       "DESCRIP = 'IUE+Oke Std Star Spectrum (Bohlin 1996, AJ)'                         \n",
       "COMMENT   Lindler/Bohlin 22-Nov-1995 13:39:32.00                                \n",
       "HISTORY   Pure hydrogen white dwarf models are the absolute flux                \n",
       "HISTORY       standards (Bohlin, Colina, & Finley 1995, AJ, Sept)               \n",
       "HISTORY   All wavelengths are vacuum.                                           \n",
       "HISTORY   The following table describes the source of the values for            \n",
       "HISTORY   each wavelength range.                                                \n",
       "HISTORY   ----------------     -------     -----------                          \n",
       "HISTORY   Wavelength Range     OBSMODE     CALOBS file                          \n",
       "HISTORY   ----------------     -------     -----------                          \n",
       "HISTORY     1148.6  3198.3   IUE       feige110_019.tab                         \n",
       "HISTORY     3200.0  9200.0   OKE DBSP  feige110_020.tab                         \n",
       "USEAFTER= '19900101:00000000'                                                   \n",
       "GENERATI=                    5                                                  \n",
       "                                                                                \n",
       "                                                                                \n",
       "                                                                                \n",
       "                                                                                \n",
       "                                                                                \n",
       "                                                                                \n",
       "                                                                                "
      ]
     },
     "execution_count": 10,
     "metadata": {},
     "output_type": "execute_result"
    }
   ],
   "source": [
    "hdu_list = fits.open(spectrum_file)\n",
    "hdu_list.info()\n",
    "hdu_list[0].header"
   ]
  },
  {
   "cell_type": "code",
   "execution_count": 19,
   "id": "df022774-3992-4dfa-ae02-17956cad599f",
   "metadata": {},
   "outputs": [
    {
     "data": {
      "image/png": "[encoded data removed]",
      "text/plain": [
       "<Figure size 432x288 with 1 Axes>"
      ]
     },
     "metadata": {
      "needs_background": "light"
     },
     "output_type": "display_data"
    }
   ],
   "source": [
    "spectrum = hdu_list[1].data\n",
    "\n",
    "plt.plot(spectrum['WAVELENGTH'],spectrum['FLUX'])\n",
    "plt.xlim(3000,7000)\n",
    "plt.ylim(0,5e-13)\n",
    "plt.show()"
   ]
  },
  {
   "cell_type": "code",
   "execution_count": 13,
   "id": "d1e42cfa-154d-41e2-9cd7-2307904bdba2",
   "metadata": {},
   "outputs": [
    {
     "data": {
      "text/plain": [
       "FITS_rec([(1148.6  , 1.0379829e-11, 7.4000875e-13, 3.1139487e-13,  6.),\n",
       "          (1149.8  , 9.6504428e-12, 5.7611403e-13, 2.8951329e-13,  6.),\n",
       "          (1151.   , 1.0101944e-11, 6.9857363e-13, 3.0305831e-13,  6.),\n",
       "          ...,\n",
       "          (9198.529, 9.6676478e-15, 4.8806049e-16, 4.8338238e-16, 13.),\n",
       "          (9200.529, 9.6451167e-15, 5.0496573e-16, 4.8225583e-16, 13.),\n",
       "          (9202.53 , 9.6216980e-15, 5.0474625e-16, 4.8108491e-16, 13.)],\n",
       "         dtype=(numpy.record, [('WAVELENGTH', '>f4'), ('FLUX', '>f4'), ('STATERROR', '>f4'), ('SYSERROR', '>f4'), ('FWHM', '>f4')]))"
      ]
     },
     "execution_count": 13,
     "metadata": {},
     "output_type": "execute_result"
    }
   ],
   "source": [
    "spectrum"
   ]
  },
  {
   "cell_type": "code",
   "execution_count": null,
   "id": "8649be8e-0803-47b3-a2ab-e8e042d178f4",
   "metadata": {},
   "outputs": [],
   "source": []
  }
 ],
 "metadata": {
  "kernelspec": {
   "display_name": "Python 3 (ipykernel)",
   "language": "python",
   "name": "python3"
  },
  "language_info": {
   "codemirror_mode": {
    "name": "ipython",
    "version": 3
   },
   "file_extension": ".py",
   "mimetype": "text/x-python",
   "name": "python",
   "nbconvert_exporter": "python",
   "pygments_lexer": "ipython3",
   "version": "3.8.10"
  }
 },
 "nbformat": 4,
 "nbformat_minor": 5
}
