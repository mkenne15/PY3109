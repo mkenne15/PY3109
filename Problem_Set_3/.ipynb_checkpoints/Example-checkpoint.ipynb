{
 "cells": [
  {
   "cell_type": "code",
   "execution_count": 1,
   "id": "689c1f75-06cc-44e5-b882-1fdb42908797",
   "metadata": {
    "tags": []
   },
   "outputs": [],
   "source": [
    "#First, we need to import the modules we will be using: Numpy, Matplotlib, Astropy, and Scipy\n",
    "import numpy as np\n",
    "import matplotlib.pyplot as plt\n",
    "from astropy.io import fits\n",
    "from astropy import units as u\n",
    "from astropy import constants as c\n",
    "from scipy import integrate"
   ]
  },
  {
   "cell_type": "code",
   "execution_count": 7,
   "id": "350e4d20-d87d-4d1e-ad60-24658eb38c7f",
   "metadata": {},
   "outputs": [
    {
     "name": "stdout",
     "output_type": "stream",
     "text": [
      "Filename: Spectrum.fits\n",
      "No.    Name      Ver    Type      Cards   Dimensions   Format\n",
      "  0  PRIMARY       1 PrimaryHDU      35   ()      \n",
      "  1                1 BinTableHDU     28   5112R x 5C   [1E, 1E, 1E, 1E, 1E]   \n"
     ]
    }
   ],
   "source": [
    "# The Spectrum is stored as a FITS (Flexible Image Transport System) file. This can be opened using Astropy's\n",
    "# in-built function. We can look at what extensions the FITS file has using the info() function.\n",
    "# In this case, there are two - the Primary Header, which contains information about the observations, and\n",
    "# a table.\n",
    "hdu_list = fits.open(\"Spectrum.fits\")\n",
    "hdu_list.info()"
   ]
  },
  {
   "cell_type": "code",
   "execution_count": 12,
   "id": "9fd97abe-cdea-4741-92c7-b18b687aa0f1",
   "metadata": {},
   "outputs": [
    {
     "data": {
      "text/plain": [
       "FITS_rec([(1148.6  , 1.0379829e-11, 7.4000875e-13, 3.1139487e-13,  6.),\n",
       "          (1149.8  , 9.6504428e-12, 5.7611403e-13, 2.8951329e-13,  6.),\n",
       "          (1151.   , 1.0101944e-11, 6.9857363e-13, 3.0305831e-13,  6.),\n",
       "          ...,\n",
       "          (9198.529, 9.6676478e-15, 4.8806049e-16, 4.8338238e-16, 13.),\n",
       "          (9200.529, 9.6451167e-15, 5.0496573e-16, 4.8225583e-16, 13.),\n",
       "          (9202.53 , 9.6216980e-15, 5.0474625e-16, 4.8108491e-16, 13.)],\n",
       "         dtype=(numpy.record, [('WAVELENGTH', '>f4'), ('FLUX', '>f4'), ('STATERROR', '>f4'), ('SYSERROR', '>f4'), ('FWHM', '>f4')]))"
      ]
     },
     "execution_count": 12,
     "metadata": {},
     "output_type": "execute_result"
    }
   ],
   "source": [
    "# We can explore the data by simply calling it. We find that this table has 5\n",
    "# columns: Wavelength, Flux, Staterror, Syserror, FWHM.\n",
    "hdu_list[1].data"
   ]
  },
  {
   "cell_type": "code",
   "execution_count": 13,
   "id": "aa3202c8-8819-48fb-a591-9311fe1e850f",
   "metadata": {},
   "outputs": [
    {
     "name": "stdout",
     "output_type": "stream",
     "text": [
      "[7.4000875e-13 5.7611403e-13 6.9857363e-13 ... 4.8806049e-16 5.0496573e-16\n",
      " 5.0474625e-16]\n"
     ]
    }
   ],
   "source": [
    "#We can index into the\n",
    "# table to access any of these values using the second command.\n",
    "print(hdu_list[1].data['STATERROR'])"
   ]
  },
  {
   "cell_type": "code",
   "execution_count": 17,
   "id": "df022774-3992-4dfa-ae02-17956cad599f",
   "metadata": {},
   "outputs": [
    {
     "data": {
      "image/png": "[encoded data removed]",
      "text/plain": [
       "<Figure size 576x432 with 1 Axes>"
      ]
     },
     "metadata": {
      "needs_background": "light"
     },
     "output_type": "display_data"
    }
   ],
   "source": [
    "#Ok, let's copy the hdu_list[1].data into a simpler variable for ease of use\n",
    "spectrum = hdu_list[1].data\n",
    "\n",
    "#Now it's time to plot the spectrum\n",
    "plt.figure(figsize=[8,6])\n",
    "plt.plot(spectrum['WAVELENGTH'],spectrum['FLUX'])\n",
    "plt.xlim(3000,7000)\n",
    "plt.ylim(0,5e-13)\n",
    "plt.xlabel(r\"Wavelength ($\\AA$)\")\n",
    "plt.ylabel(r\"Flux (ergs/cm^2/s/A)\")\n",
    "plt.show()"
   ]
  },
  {
   "cell_type": "code",
   "execution_count": 37,
   "id": "8649be8e-0803-47b3-a2ab-e8e042d178f4",
   "metadata": {},
   "outputs": [
    {
     "name": "stdout",
     "output_type": "stream",
     "text": [
      "1.5647268167886765e-13 erg / (Angstrom cm2 s)\n",
      "6.743987053625363e-14 erg / (Angstrom cm2 s)\n"
     ]
    }
   ],
   "source": [
    "B_filter = np.genfromtxt(\"Johnson_B.dat\")\n",
    "V_filter = np.genfromtxt(\"Johnson_V.dat\")\n",
    "\n",
    "# The following is a convenince function that numerically integrates\n",
    "# the blackbody flux (bb) over a given response file (filt)\n",
    "def integrate(spec,filt):\n",
    "    flux_density = filt[:,1]*spec\n",
    "    flux_density = flux_density\n",
    "    flux = 0\n",
    "    response = 0\n",
    "    wav = np.abs(np.diff(filt[:,0]))\n",
    "    for i,j in enumerate(wav):\n",
    "        flux += (flux_density[i]+flux_density[i+1])/2*j\n",
    "        response += (filt[i,1]+filt[i+1,1])/2*j\n",
    "    return flux/response\n",
    "\n",
    "# Defining a blackbody curve over the wavelength range of our filters\n",
    "wav = V_filter[:,0] * u.AA\n",
    "flux = spectrum['Flux']* u.erg/u.cm**2/u.s/u.AA\n",
    "\n",
    "#Calculating the fluxes in each band\n",
    "B_flux = integrate_bb(flux,B_filter)\n",
    "V_flux = integrate_bb(flux,V_filter)\n",
    "\n",
    "print(B_flux)\n",
    "print(V_flux)"
   ]
  },
  {
   "cell_type": "code",
   "execution_count": 38,
   "id": "5f71bf42-4351-4b6f-9786-7e90242c7be3",
   "metadata": {},
   "outputs": [
    {
     "name": "stdout",
     "output_type": "stream",
     "text": [
      "6.195406257430061e-09 erg / (Angstrom cm2 s)\n",
      "3.5650823580636037e-09 erg / (Angstrom cm2 s)\n"
     ]
    }
   ],
   "source": [
    "print((4000.87*u.Jy).to(u.erg/u.cm**2/u.s/u.AA, equivalencies=u.spectral_density(4400*u.AA)))\n",
    "print((3597.28*u.Jy).to(u.erg/u.cm**2/u.s/u.AA, equivalencies=u.spectral_density(5500*u.AA)))"
   ]
  },
  {
   "cell_type": "code",
   "execution_count": 39,
   "id": "45b735a4-6587-4e37-afa0-b47d08bf6c3e",
   "metadata": {},
   "outputs": [
    {
     "name": "stdout",
     "output_type": "stream",
     "text": [
      "11.497291780894052\n",
      "11.807871030838651\n"
     ]
    }
   ],
   "source": [
    "print(-2.5*np.log10(1.56e-13/6.195e-9))\n",
    "print(-2.5*np.log10(6.7439e-14/3.565e-9))"
   ]
  },
  {
   "cell_type": "code",
   "execution_count": null,
   "id": "be68ca53-319f-44d7-b555-d0ccbb1c4562",
   "metadata": {},
   "outputs": [],
   "source": []
  }
 ],
 "metadata": {
  "kernelspec": {
   "display_name": "Python 3 (ipykernel)",
   "language": "python",
   "name": "python3"
  },
  "language_info": {
   "codemirror_mode": {
    "name": "ipython",
    "version": 3
   },
   "file_extension": ".py",
   "mimetype": "text/x-python",
   "name": "python",
   "nbconvert_exporter": "python",
   "pygments_lexer": "ipython3",
   "version": "3.8.10"
  }
 },
 "nbformat": 4,
 "nbformat_minor": 5
}
