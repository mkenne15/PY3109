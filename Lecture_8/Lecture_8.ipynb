{
 "cells": [
  {
   "cell_type": "code",
   "execution_count": 3,
   "id": "a0e822ab-6601-47f5-8ec2-be0ede781531",
   "metadata": {},
   "outputs": [],
   "source": [
    "import astropy.units as u\n",
    "import astropy.constants as c\n",
    "import numpy as np"
   ]
  },
  {
   "cell_type": "markdown",
   "id": "0c44d53b-d152-4879-81ce-401131e879d9",
   "metadata": {},
   "source": [
    "# Stellar Formation"
   ]
  },
  {
   "cell_type": "markdown",
   "id": "6678cb2b-c405-447f-b855-a5b905b298be",
   "metadata": {},
   "source": [
    "## Cloud Collapse"
   ]
  },
  {
   "cell_type": "markdown",
   "id": "502fd281-a613-4246-b062-512345bbf24d",
   "metadata": {},
   "source": [
    "A few lectures ago, we generated the H-R diagram. At the time, we simply said that normal stars fall on a diagonal line between the top left and bottom right corners. Now we're going to ask ourselves the question \"How do stars form and evolve across that diagram?\".\n",
    "\n",
    "First, we need to create our star. Consider a spherical cloud of dust of radius $R$ and total mass $M$, as shown below. \n",
    "\n",
    "![DustCloud](Images/Spherical_Dust_Cloud.svg)\n",
    "\n",
    "The matter,$m$, contained within a spherical shell of radius of $r$, is given by\n",
    "$$\n",
    "    m(r) = \\int^{r}_{0} \\rho(r')4\\pi r'^2 dr'\n",
    "$$\n",
    "where $\\rho(r)$ is the density of the cloud, and is a function of the radius. This mass acts as a gravitational point mass giving rise to an inwared acceleration of\n",
    "$$\n",
    "    g(r)=\\frac{Gm(r)}{r^2}.\n",
    "$$\n",
    "So we have a expression for the gravitational acceleration that a mass element within the sphere will experience. However, that is not the only force at play here. There is likely to be a pressure gradient across the cloud. To find an expression for this, consider the volume element, $\\Delta A \\Delta r$, enclosed in the grey area in the above diagram (the $\\Delta A$ part is difficult to image due to the 2-d representation of this figure). At the inner face of the volume element (radius=$r$), the force is $P(r)\\Delta A$. The force on the outer face (radius=$r+\\delta r$) is $(P(r)+\\frac{dP}{dr}\\Delta r)\\Delta A$. The resultant force experienced by the volume element is thus\n",
    "$$\n",
    "    \\Delta F_{P} = (P(r)+\\frac{dP}{dr}\\Delta r - P(r))\\Delta A = \\frac{dP}{dr}\\Delta r \\Delta A\n",
    "$$\n",
    "Now, the mass volume of this element, $\\Delta M= \\rho(r)\\Delta r \\Delta A$. By using $F = \\Delta M \\; g(r) + \\Delta F_{P}$, we arrive at\n",
    "$$\n",
    "    -\\frac{d^2r}{dt^2}=g(r)+\\frac{1}{\\rho (r)}\\frac{dP}{dr}\n",
    "$$\n",
    "Ok, so now we have an expression which gives us the acceleration, taking into account both gravity and pressure.\n",
    "\n",
    "### Freefall time\n",
    "The freefall time is the timescale required for collapse ignoring pressure. Consider a collapse from a starting radius, $r_0$, to a radius $r$, by a shell of mass $\\Delta m$, and which encloses a total mass $m_0$ (and where $m_0$ does not change during the collapse) as shown below.\n",
    "![DustCloud](Images/Thin_Shell.svg)\n",
    "\n",
    "By consering kinetic and potential energy, the velocity of the shell as it reaches a radius of $r$ is given by\n",
    "$$\n",
    "    \\frac{1}{2} \\left(\\frac{dr}{dt}\\right)^2=\\frac{Gm_0}{r}-\\frac{Gm_0}{r_0}\n",
    "$$\n",
    "The freefall time is then given by\n",
    "$$\n",
    "t_{\\rm FF} = \\int^0_{r_0} \\frac{dt}{dr} = -\\int^0_{r_0} \\left[ \\frac{2Gm_0}{r}-\\frac{2Gm_0}{r_0}\\right]^{1/2} dr.\n",
    "$$\n",
    "By letting $x=r/r_0$, and using the expression \n",
    "$$\n",
    "    \\int^1_0 \\left(\\frac{x}{1-x}\\right)^{1/2} dx=\\pi/2\n",
    "$$\n",
    "we get that\n",
    "$$\n",
    "    t_{\\rm FF} = \\left[\\frac{3\\pi}{32G\\rho}\\right]^{1/2}.\n",
    "$$\n",
    "So what does this actually tell us? Let's assume a density of $\\rho=1$ Hydrogen atom/cm$^3$. Then we get"
   ]
  },
  {
   "cell_type": "code",
   "execution_count": 10,
   "id": "2e29827c-e2fb-443f-b2aa-abdd9781d091",
   "metadata": {},
   "outputs": [
    {
     "name": "stdout",
     "output_type": "stream",
     "text": [
      "The freefall time is: 0.05147008117133267 Gyr\n"
     ]
    }
   ],
   "source": [
    "rho = 1*c.m_p/u.cm**3\n",
    "teff = ((3*np.pi)/(32*c.G*rho))**(1/2)\n",
    "print(\"The freefall time is:\", teff.to(u.Gyr))"
   ]
  },
  {
   "cell_type": "markdown",
   "id": "a177594d-de41-4ef9-9221-d7b595f37a03",
   "metadata": {},
   "source": [
    "This is pretty short compared to the age of the Galaxy. Also, ignoring pressure is not always a bad assumption - assuming that the internal energy within the cloud is lost as radiation, or absorbed into electrons transitioning between states, then the pressure within dust clouds can be kept very very low. Eventually, however, the cloud will become opaque to the radiation it is producing - at this point, we'll get a balance between in inward force of gravity and the outward force of pressure. This is known as Hydrostatic equilibrium."
   ]
  },
  {
   "cell_type": "markdown",
   "id": "c273aeda-ac1b-4ab0-8995-bc18f9e13f36",
   "metadata": {},
   "source": [
    "### Hydrostatic Equilibrium"
   ]
  },
  {
   "cell_type": "markdown",
   "id": "72ba9137-62cc-4ebe-aeaf-d311c2742bf4",
   "metadata": {},
   "source": [
    "The formal condition for hydrotstatic equilibrium"
   ]
  }
 ],
 "metadata": {
  "kernelspec": {
   "display_name": "Python 3 (ipykernel)",
   "language": "python",
   "name": "python3"
  },
  "language_info": {
   "codemirror_mode": {
    "name": "ipython",
    "version": 3
   },
   "file_extension": ".py",
   "mimetype": "text/x-python",
   "name": "python",
   "nbconvert_exporter": "python",
   "pygments_lexer": "ipython3",
   "version": "3.8.10"
  }
 },
 "nbformat": 4,
 "nbformat_minor": 5
}
