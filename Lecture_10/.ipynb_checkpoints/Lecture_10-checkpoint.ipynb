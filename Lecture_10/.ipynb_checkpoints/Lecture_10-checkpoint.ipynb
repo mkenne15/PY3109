{
 "cells": [
  {
   "cell_type": "markdown",
   "id": "477ea7d7-ce41-4555-8030-8f685fa85713",
   "metadata": {},
   "source": [
    "# The Stellar Interior"
   ]
  },
  {
   "cell_type": "markdown",
   "id": "100ed0fd-fb79-4b56-9c1a-898177f77ee4",
   "metadata": {},
   "source": [
    "Now that we know the conditions required to form a star, it's time to turn our attention to the behaviour of matter and radiation within the stellar interior. We will largely be considering an ideal gas, and we'll need to pay attention to both quantum mechanical and special relativistic effects in our treatment."
   ]
  },
  {
   "cell_type": "markdown",
   "id": "9b2a4b40-0742-40b1-b4a3-b406c5997f80",
   "metadata": {},
   "source": [
    "## Density of states"
   ]
  },
  {
   "cell_type": "markdown",
   "id": "9c7ac2ae-8cff-4311-8434-e8da48f69a47",
   "metadata": {},
   "source": [
    "First, let's consider particles in a cube with side $L$, such that $V=L^3$. The quantum states for particles confined with in this box can be given using a combination of standing waves of the form $\\sin(k_x x)+\\sin(k_y y)+\\sin(k_z z)$. This gives us the wave vector, ${\\bf k} = (k_x,k_y,k_z) = (n_x,n_y,n_z)\\pi/L$ where $n_x,n_y,n_z$ are all integers. ($n_x,n_y,n_z$) can be used to count the number of quantum states with differen wave vector. For example, $L/\\pi dk_x$ distance values of $n_x$ are available if $k_x$ increases to $k_x+dk_x$. Thus, the number of distinct quantum states between $(k_x,k_y,k_z)$ and $(k_x+dk_x,k_y+dk_y,k_z+dk_z)$ is:\n",
    "$$\n",
    "    \\left( \\frac{L}{\\pi}\\right) ^3 dk_x dk_y dk_z\n",
    "$$\n",
    "If we then consider 2 spheres in $k$ space, one with radius $k$ and the other $k+dk$, the volume between these two spheres is given by $4 \\pi^2 k^2 dk/8$. The number of distinct quantum states within this volume is then\n",
    "$$\n",
    "    \\left( \\frac{L}{\\pi}\\right) ^3 \\frac{4 \\pi^2}{8} k^2 dk\n",
    "$$\n",
    "Recalling that the de Broglie wavelength is $\\lambda=h/p$, and now using $k=2\\pi/\\lambda$, then we get that $p=\\hbar k$. Using this relation in the above, we finally arrive at an expression for the density of states\n",
    "$$\n",
    "    g(p)dp=\\frac{V}{h^3} 4 \\pi p^2 dp\n",
    "$$\n",
    "This result needs to be adapted to account for the fact that states can have identical momentum, but different quantum spins. So if $g_s$ is the number of spin values a particle can have, this expression becomes\n",
    "$$\n",
    "    g(p)dp=g_s\\frac{V}{h^3} 4 \\pi p^2 dp\n",
    "$$"
   ]
  },
  {
   "cell_type": "markdown",
   "id": "5716d85f-4ba6-4bc9-8a1c-d21370232a5f",
   "metadata": {},
   "source": [
    "## Internal Energy"
   ]
  },
  {
   "cell_type": "markdown",
   "id": "55b85729-bc41-491f-8b80-166bc6139d13",
   "metadata": {},
   "source": [
    "Ok, in order to calculate the internal kinetic energy of the gas, we need three things: the density of states, the energy of each quantum state, and the number of particles in each of the states. We now have an expression for the density of states, so let's next consider the energy. From special relativity, we know that the energy of a quantum state for a given momentum $p$ is\n",
    "$$\n",
    "    \\epsilon_p^2 = p^2c^2+m^2c^4\n",
    "$$\n",
    "Assumine the average number of particles in a state with energy $\\epsilon_p$ is $f(\\epsilon_p)$, then we get that\n",
    "$$\n",
    "    E = \\int^{\\infty}_0 \\epsilon_p f(\\epsilon_p) g(p) dp\n",
    "$$ \n",
    "and that the total number of particles is\n",
    "$$\n",
    "    N = \\int^{\\infty}_0 f(\\epsilon_p) g(p) dp\n",
    "$$\n",
    "From here on, the macroscopic properties of the gas will be given as $T$ (temperature), $P$ (pressure), and $\\mu$ (the chemical potential). For a change in entropy, volume, and number of particles, our gas should then follow the relation:\n",
    "$$\n",
    "    {\\rm d} E = T {\\rm d}S - P {\\rm d}V + \\mu {\\rm d} N\n",
    "$$\n",
    "On a microscopic scale, these parameters control th distribution of the particles in the various states. This distribution depends on wheter the particles are fermions (1/2 integer spin, electrons, protons, etc) or bosons (integer spins, photons).\n",
    "\n",
    "### Fermions\n",
    "Fermions obey Fermi-Dirac statistics, and must follow the Pauli exclusion principle. That is, no more than 1 particle can be in a given quantum state. The distribution in this case is given by:\n",
    "$$\n",
    "    f(\\epsilon_p) = \\frac{1}{\\exp[(\\epsilon_p - \\mu)/kT]+1}\n",
    "$$\n",
    "\n",
    "### Bosons\n",
    "For bosons, any number of particles can be in a given state, and the distribution follows a Bose-Einstein distribution\n",
    "$$\n",
    "    f(\\epsilon_p) = \\frac{1}{\\exp[(\\epsilon_p - \\mu)/kT]-1}\n",
    "$$\n",
    "\n",
    "For a dilute classical gas, we require that $f(\\epsilon_p)<<1$. In this limit, both of these distributions become very similar, and we end up with \n",
    "$$\n",
    "    \\exp[(\\epsilon_p - \\mu)/kT]>>1\n",
    "$$\n",
    "This also gives us the relation\n",
    "$$\n",
    "    f(\\epsilon_p) \\sim \\exp[-(\\epsilon_p - \\mu)/kT]\n",
    "$$"
   ]
  },
  {
   "cell_type": "markdown",
   "id": "5c8e9e2d-91fa-4207-8d46-a09102724a0b",
   "metadata": {},
   "source": [
    "## Pressure"
   ]
  },
  {
   "cell_type": "markdown",
   "id": "3d421f41-1654-4227-84fc-cd3d96e74e95",
   "metadata": {},
   "source": [
    "## Classical gas\n",
    "\n",
    "Now, let's assume we have a change in volume, but no change in entropy or particle number. As such, $dE=-PdV$. Using\n",
    "$$\n",
    "    E = \\int^{\\infty}_0 \\epsilon_p f(\\epsilon_p) g(p) dp\n",
    "$$\n",
    "we then get that\n",
    "$$\n",
    "    P = -\\frac{dE}{dV} = - \\int^{\\infty}_0 \\frac{d\\epsilon_p}{dV} f(\\epsilon_p) g(p) dp\n",
    "$$\n",
    "Let's now write\n",
    "$$\n",
    "    \\frac{d\\epsilon_p}{dV} = \\frac{d\\epsilon_p}{dp}\\frac{dp}{dV}\n",
    "$$\n",
    "We can also substitute\n",
    "$$\n",
    "    \\frac{dp}{dV} = -\\frac{p}{3V}\n",
    "$$\n",
    "by realising that momentum, $p$, is inversly proportional to $L$, and $L$ is proportional to $V^1/3$. Finally,\n",
    "$$\n",
    "    \\frac{d\\epsilon_p}{dp}=\\frac{pc^2}{\\epsilon_p}=v_p\n",
    "$$\n",
    "Thus \n",
    "$$\n",
    "    \\frac{d\\epsilon_p}{dV} = -\\frac{pv_p}{3V}\n",
    "$$\n",
    "Subbing back into the above gives\n",
    "$$\n",
    "    P  = \\int^{\\infty}_0 \\frac{pv_p}{3V} f(\\epsilon_p) g(p) dp = \\frac{N}{3V}<pv_p>\n",
    "$$\n",
    "For non relativistic particles, $\\epsilon_p=mc^2+p^2/2m$ and $v_p=p/m$, leading to\n",
    "$$\n",
    "    P=\\frac{2N}{3V}<\\frac{p^2}{2m}>\n",
    "$$\n",
    "which means the P=2/3 x the kinetic energy density.\n",
    "\n",
    "For ultra-relativistic gasses, $\\epsilon_p=pc$ and $v_p=c$, so \n",
    "$$\n",
    "    P=\\frac{N}{3V}<pc>\n",
    "$$\n",
    "which means the P=1/3 x the kinetic energy density."
   ]
  },
  {
   "cell_type": "code",
   "execution_count": null,
   "id": "6e548183-82a1-4f46-ad7e-40e3818dde14",
   "metadata": {},
   "outputs": [],
   "source": []
  }
 ],
 "metadata": {
  "kernelspec": {
   "display_name": "Python 3 (ipykernel)",
   "language": "python",
   "name": "python3"
  },
  "language_info": {
   "codemirror_mode": {
    "name": "ipython",
    "version": 3
   },
   "file_extension": ".py",
   "mimetype": "text/x-python",
   "name": "python",
   "nbconvert_exporter": "python",
   "pygments_lexer": "ipython3",
   "version": "3.8.10"
  }
 },
 "nbformat": 4,
 "nbformat_minor": 5
}
