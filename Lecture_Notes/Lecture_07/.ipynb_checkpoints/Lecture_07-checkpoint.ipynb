{
 "cells": [
  {
   "cell_type": "markdown",
   "id": "2983c76d-aad1-4098-8210-605ad2872370",
   "metadata": {},
   "source": [
    "# Radio Astronomy"
   ]
  },
  {
   "cell_type": "markdown",
   "id": "c72fbafd-e4cc-4508-bea2-653e33e8e46a",
   "metadata": {},
   "source": [
    "## Interferometry"
   ]
  },
  {
   "cell_type": "markdown",
   "id": "78887e4e-26ec-481c-94eb-db59e13a64bd",
   "metadata": {},
   "source": [
    "We finished our discussion last week by looking at how interferometry works. With this method, the condition required for two sources to be resolved is that the difference in the additional path length photons must travel to reach the second telescope is $c \\Delta t \\sim \\lambda$, such that the photons from the source which is $\\Delta \\theta$ away from source which is on axis are still arriving in phase and may be combined coherently. We also expressed this condition as $\\Delta \\theta = \\frac{\\lambda}{L}$, where L is the separation of the telescopes (also known as the baseline).\n",
    "\n",
    "We only considered two dishes, but radio interferometers are typically composed of multiple dishes so that the image can be properly sampled, and this phase difference must be measured for every pair of telescopes, which is why the computational cost of this technique quickly increases as you add more baselines to the array.\n",
    "\n",
    "As examples, consider the Very Large Array - this is an array of 27 dishes, each 25 m in diamater, in New Mexico. The dishes can be repositioned to change the baselines, with the largest baseline being 37 km."
   ]
  },
  {
   "cell_type": "markdown",
   "id": "6b900a4d-e2c0-4251-94f3-b1473d6fa6bf",
   "metadata": {},
   "source": [
    "<div class=\"alert alert-block alert-info\">\n",
    "    <b>Question: Event Horizon Telescope</b>\n",
    "\n",
    "Imagine the supermassive black hole at the centre of M87, which lies 16 Mpc away. The Schwarzschild radius for a black hole is given by $2GM/c^2$. If the mass is 2.4e9 solar masses, work out what the angular size of the black hole should be for an observer on Earth. If we were carrying out observations at 10 cm, how long would the smallest baseline need to be to resolve the black hole?\n",
    "    \n",
    "</div>"
   ]
  },
  {
   "cell_type": "markdown",
   "id": "cbab52ec-5a52-47fb-a2d3-d104dc22631f",
   "metadata": {},
   "source": [
    "Finally, let's ask the question: if this technique can achieve fantastic spatial resolutions, why don't we do it at other wavelengths?\n",
    "\n",
    "For radio wavelengths (say 10cm), this can be done by accurately time tagging data as it arrives. After all, for $\\lambda =$ 10 cm, $\\Delta t=$ 0.3 nanoseconds. Such a high accuracy in timing is achievable using GPS, meaning the data can be recorded, digitised, and combined in a correlator.\n",
    "\n",
    "However, if we wanted to carry out interferometry at optical wavelengths, things becomes trickier. Assume a wavelength of $\\lambda=500$ nm. Then $\\Delta t=$ 1.6 femtoseconds. As such, time tagging data becomes much more difficult. Instead, the handful of optical interferometers which exist (Very Large Telescope Interferometer or the Large Binocular Telescope interfermeter) employ mirrors to redirect light from each mirror into a chamber where the photons can be interferred directly."
   ]
  },
  {
   "cell_type": "markdown",
   "id": "8ce0c3d5-e654-4a49-b1ac-fc52103ba2e3",
   "metadata": {},
   "source": [
    "# X-ray Astronomy"
   ]
  },
  {
   "cell_type": "markdown",
   "id": "b46c45ea-a9de-4deb-b4a6-aac947fac2cb",
   "metadata": {},
   "source": [
    "Now that we've looked at how we account for the Rayleigh criteria at radio wavelengths, let's move to the other side of the spectrum, and discuss X-rays. X-ray astronomers typically work in energy rather than wavelength or frequency. The X-ray regime is considered to be 0.3-70 keV. So what temperature objects are X-rays focused? Let's assume blackbody radiation, and a peak in the spectrum at an energy of 3 keV (corresponding to a wavelength of 0.41 nm). Using Wien's law, we find that T would be ~ $7\\times10^6$ Kelvin. These types of temperatures are typically found in very, very hot plasmas (or the surface of a neutron star), making this an ideal window for studying energteic phenomena.  It is also the perfect window for observing emission from highly ionized isotopes (such as Fe XXIV, XXV,  - that is, Fe with only 2 or 1 electrons left).\n",
    "\n",
    "So we want to study this wavelength regime as it covers hot, relativistic plasmas. How do we do it? First, the telescopes must be in space, as the Earth's atmosphere absorbs all incident X-rays. Infact, the 2002 Nobel Prize in physics was half-awarded to Riccardo Giacconi for pioneering X-ray detectors bourne first by rockets, followed by orbiting satellites.\n",
    "\n",
    "Second, recall the Rayleigh criteria for X-rays:\n",
    "\n",
    "- X-ray (0.12 nm - 4.1 nm). Take a 1 m telescope and lambda=1 nm, then $\\theta=0.0002^{\\rm \"}$.\n",
    "\n",
    "This suggests that for a modest sized telescope, we should achieve outstanding resolution with X-ray telescopes. So why are X-ray images so blurry? The key here is to realise that creating an X-ray telescope which has the collecting area equivalent to a 1m diameter mirror is very difficult.\n",
    "\n",
    "### Grazing Incidence Optics"
   ]
  },
  {
   "cell_type": "markdown",
   "id": "4609aa8e-16ec-46ac-8896-30de28b8a694",
   "metadata": {},
   "source": [
    "X-ray's are absorbed by a lot of materials, and so focusing them using conventional setups doesn't work. Instead, we must rely on grazing incidence optics. In this setup, the angle between an incoming photon and the reflecting mirror, $\\theta$, is very small (~ a few degrees). The photons are then focused to a point which is quite far away from the mirrors.\n",
    "\n",
    "![SingleSlit](Figures/Xray_focus.png)\n",
    "\n",
    "Take the NuSTAR X-ray telescope for example. The aperture is roughly 1 m in diameter, and for $\\theta=1^{\\rm o}$, this means the focal point is 12.5 m away - so X-ray telescopes tend to be very long, making putting them in space complicated. Most modern X-ray telescopes tend to have 2 sets of mirrors, such that the focal point can be reduced further by reflecting the X-rays twice).\n",
    "\n",
    "Even worse - because we need $\\theta$ to be small, only an annulus of the aperture can be filled - meaning the effective collecting area tends to be quite small. NuSTAR, for example, only has an effective area of 847 cm$^2$ - a lot smaller than if the aperture were filled. This also affects the resolution, which is only about 1\" for these types of telescopes."
   ]
  },
  {
   "cell_type": "code",
   "execution_count": null,
   "id": "312e7606-f8d0-4997-852e-5f5323f41309",
   "metadata": {},
   "outputs": [],
   "source": []
  }
 ],
 "metadata": {
  "kernelspec": {
   "display_name": "Python 3 (ipykernel)",
   "language": "python",
   "name": "python3"
  },
  "language_info": {
   "codemirror_mode": {
    "name": "ipython",
    "version": 3
   },
   "file_extension": ".py",
   "mimetype": "text/x-python",
   "name": "python",
   "nbconvert_exporter": "python",
   "pygments_lexer": "ipython3",
   "version": "3.8.10"
  }
 },
 "nbformat": 4,
 "nbformat_minor": 5
}
