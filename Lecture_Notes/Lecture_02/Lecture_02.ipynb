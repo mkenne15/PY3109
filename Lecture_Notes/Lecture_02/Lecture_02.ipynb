{
 "cells": [
  {
   "cell_type": "code",
   "execution_count": 1,
   "id": "88389c3a-b2a8-4e66-8bbc-5fffc516df4c",
   "metadata": {},
   "outputs": [],
   "source": [
    "# Importing necessary modules\n",
    "import numpy as np#\n",
    "import matplotlib.pyplot as plt\n",
    "from astropy.time import Time\n",
    "from astropy import units as u\n",
    "from datetime import datetime, timedelta\n",
    "from astropy.coordinates import solar_system_ephemeris, EarthLocation, get_sun, get_body"
   ]
  },
  {
   "cell_type": "markdown",
   "id": "94370880-2ab1-4fad-8548-ce3fb48c041a",
   "metadata": {},
   "source": [
    "### Reference Times\n",
    "\n",
    "The time at which an astronomical event (a supernova, an eclipse, a gamma-ray burst) usually occurs is typically given in Julian days (JD). This is the time which has lapsed, in days, since noon at Greenwich on January 1, 4713 BC. There are variants such as the Modified Julian Date (MJD), which is the time in days since midnight, November 17 1858. MJD is typically used instead of JD simply because it removes a very large constant. The below code shows todays JD and MJD (as computed when I last evaluated this cell)."
   ]
  },
  {
   "cell_type": "code",
   "execution_count": 2,
   "id": "fe0a647e-06b3-44f0-b277-b3f56d21d081",
   "metadata": {},
   "outputs": [
    {
     "name": "stdout",
     "output_type": "stream",
     "text": [
      "The current time is: 2025-01-07T13:29:42.375\n",
      "The current time in JD is: 2460683.0622960087\n",
      "The current time in MJD is: 60682.56229600859\n"
     ]
    }
   ],
   "source": [
    "ut = Time(datetime.utcnow(), scale='utc')\n",
    "\n",
    "print(f\"The current time is: {ut.isot}\")\n",
    "print(f\"The current time in JD is: {ut.jd}\")\n",
    "print(f\"The current time in MJD is: {ut.mjd}\")"
   ]
  },
  {
   "cell_type": "code",
   "execution_count": 4,
   "id": "5353792b-ecfd-4586-87f0-09bdc287c667",
   "metadata": {},
   "outputs": [
    {
     "name": "stdout",
     "output_type": "stream",
     "text": [
      "The current time is: 2024-03-21T00:00:00.000\n",
      "The current time in JD is: 2460390.5\n",
      "The current time in MJD is: 60390.0\n"
     ]
    }
   ],
   "source": [
    "ut = Time(datetime(2024,3,21,0,0,0,0), scale='utc')\n",
    "\n",
    "print(f\"The current time is: {ut.isot}\")\n",
    "print(f\"The current time in JD is: {ut.jd}\")\n",
    "print(f\"The current time in MJD is: {ut.mjd}\")"
   ]
  },
  {
   "cell_type": "markdown",
   "id": "1c8968aa-cf80-4df7-851b-5e48d028371b",
   "metadata": {},
   "source": [
    "## Equation of Time"
   ]
  },
  {
   "cell_type": "markdown",
   "id": "b9ff8050-5f6c-404b-afe9-09cd3e3daa8e",
   "metadata": {},
   "source": [
    "Consider again the position of the Sun on the celestial sphere. If we used a sundial to time how long it took between consecutive passes of the Sun through the meridian, and also measured out 24 hours, what would it look like? If the orbit of the Earth were perfectly circular and the rotational axis of the Earth was perpendicular to the orbital plane, it should always be 0.\n",
    "\n",
    "However, our orbit is elliptical and the Earth's rotational axis is not perpendicular to the orbital plane (obliquity). As such, the time between transits (Apparent Solar Time) is different to the time measured using a stop watch (Mean Solar Time), as shown in the plot below. This correction is known as the Equation of Time.\n",
    "\n",
    "This means if you were timing your days using the Sun, you would be slower in June and November than if you used a stopwatch, and faster in January and August."
   ]
  },
  {
   "cell_type": "code",
   "execution_count": 3,
   "id": "b5b0eb36-791b-4577-bc82-e50f5682fab2",
   "metadata": {},
   "outputs": [
    {
     "data": {
      "image/png": "[encoded data removed]",
      "text/plain": [
       "<Figure size 576x302.4 with 1 Axes>"
      ]
     },
     "metadata": {
      "needs_background": "light"
     },
     "output_type": "display_data"
    }
   ],
   "source": [
    "base = datetime(2024,3,20,12,0,0,0)\n",
    "times = [base - timedelta(days=x) for x in range(365)]\n",
    "ts = Time(times,format='datetime',scale='utc') #Convering the MJDs to a Time format which Astropy can read.\n",
    "with solar_system_ephemeris.set('builtin'):\n",
    "    sun = get_sun(ts) # Get the location of the Sun\n",
    "EoT = (sun.ra-ts.sidereal_time(\"mean\",\"greenwich\"))\n",
    "EoT[EoT<-300*u.deg]=EoT[EoT<-300*u.deg]+360*u.deg\n",
    "\n",
    "plt.figure(figsize=(8,4.2))\n",
    "plt.subplot(111)\n",
    "plt.grid(True)\n",
    "plt.plot(times,EoT.hour*60)\n",
    "plt.xlabel(\"Calendar Date\")\n",
    "plt.ylabel(\"Time Delay (mins)\")\n",
    "plt.savefig(\"Figures/EoT.svg\")\n",
    "plt.show()"
   ]
  },
  {
   "cell_type": "code",
   "execution_count": null,
   "id": "289ad11c-53d7-4794-a339-5f28b467c421",
   "metadata": {},
   "outputs": [],
   "source": []
  }
 ],
 "metadata": {
  "kernelspec": {
   "display_name": "Python 3 (ipykernel)",
   "language": "python",
   "name": "python3"
  },
  "language_info": {
   "codemirror_mode": {
    "name": "ipython",
    "version": 3
   },
   "file_extension": ".py",
   "mimetype": "text/x-python",
   "name": "python",
   "nbconvert_exporter": "python",
   "pygments_lexer": "ipython3",
   "version": "3.11.11"
  }
 },
 "nbformat": 4,
 "nbformat_minor": 5
}
