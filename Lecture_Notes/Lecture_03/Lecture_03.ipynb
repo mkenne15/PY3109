{
 "cells": [
  {
   "cell_type": "code",
   "execution_count": 51,
   "id": "e697e90b-41dd-4887-abdb-f86948f361cd",
   "metadata": {
    "tags": []
   },
   "outputs": [],
   "source": [
    "# Importing necessary modules\n",
    "import numpy as np\n",
    "import matplotlib.pyplot as plt\n",
    "from astropy.time import Time\n",
    "from astropy import units as u\n",
    "from datetime import datetime,timedelta\n",
    "from astropy.coordinates import solar_system_ephemeris, EarthLocation, get_sun"
   ]
  },
  {
   "cell_type": "markdown",
   "id": "1a50de9a-2ae2-434b-a259-41b398e5797f",
   "metadata": {
    "tags": []
   },
   "source": [
    "<div class=\"alert alert-block alert-success\">\n",
    "<b> Key Question </b> \n",
    "Now that we can position stars on the celestial sphere, what effects do we need to account for?\n",
    "</div>"
   ]
  },
  {
   "cell_type": "markdown",
   "id": "b8637ec1-6df5-4c74-ac1e-54e2de2232b0",
   "metadata": {},
   "source": [
    "## Annual Aberration"
   ]
  },
  {
   "cell_type": "markdown",
   "id": "0e04b84e-5a4c-4250-84f7-2daf375619ab",
   "metadata": {},
   "source": [
    "Consider a star which is on the ecliptic, and we wish to point a telescope at this star in order to observe it. If we were in a stationary reference frame (standing on the surface of the Sun), then we would have to point our telescope at an angle of \n",
    "\n",
    "$$\n",
    "\\tan\\theta=\\frac{u_{\\rm y}}{u_{\\rm x}}\n",
    "$$\n",
    "\n",
    "where $u_{\\rm y}$ is the velocity component of the photon coming from the star in the y-direction, and $u_{\\rm x}$ in the x-direction. Fortunately, we are not standing on the surface of the Sun, we are safely standing on Earth, which moves with velocity **v**=$v_{\\rm x}+v_{\\rm y}$.\n",
    "\n",
    "![Aberration](Figures/Aberration_1_alternative.png)\n",
    "\n",
    "In the primed frame, the photon will have velocity components $u'_{\\rm x} = u_{\\rm x}+v_{\\rm x}$ and $u'_{\\rm y} = u_{\\rm y}+u_{\\rm y}$. As such, the angle the telescope will need to be pointed at, $\\phi$, is\n",
    "\n",
    "$$\n",
    "\\tan \\phi=\\frac{u_{\\rm y}+v_{\\rm y}}{u_{\\rm x}+v_{\\rm x}}=\\frac{\\sin \\theta +v_{\\rm y}/c}{\\cos \\theta+v_{\\rm x}/c}\n",
    "$$\n",
    "\n",
    "Now take the extreme example where $\\theta=90^{\\rm o}$, and the Earth is moving with velocity v=30 km/s in the x direction. The above expression becomes\n",
    "\n",
    "$$\n",
    "\\tan \\phi=\\frac{c}{v}\n",
    "$$\n",
    "\n",
    "The difference between $\\theta$ and $\\phi$ (that is, the offset we need to include when pointing our telescope) is then\n",
    "\n",
    "$$\n",
    "\\tan(\\theta-\\phi)=\\frac{v}{c}\n",
    "$$\n",
    "\n",
    "The Earth's velocity is $v= \\textbf{v}=30$ km/s, and so the telescope must point with an angle offset of 20.6\".\n",
    "\n",
    "Now consider this effect over one year. When the velocity of Earth is perpendicular to the incoming star light (points D and B), we see a maximum of this effect, while when the velocity is parallel to the photon's velocity, we see no effect (A/C). This means over the year, the star moves along a line on the ecliptic with a maximum displacement of 41.2\".\n",
    "\n",
    "![Aberration_2](Figures/Aberration_2_alternative.png)\n",
    "\n",
    "\n",
    "Stars off the ecliptic by an angle $\\theta$ become more complex to deal with, and at maximum gain an additional angular component perpendicular to the ecliptic, causing them to trace out ellipses in the night sky. Stars at 90 degrees to  the ecliptic trace out a circle.\n",
    "\n",
    "Our treatment above is purely classical, but suffices for our purposes. The full treatment requires special relativity, and this annual aberration caused significant confusion up until special relativity was proposed (I highly recommend reading the wikipedia article on this if you're interested, but it's not necessary for the course)."
   ]
  },
  {
   "cell_type": "markdown",
   "id": "37a16d26-e4cb-4b46-bef9-606ba684e38c",
   "metadata": {},
   "source": [
    "## Airmass & Extinction"
   ]
  },
  {
   "cell_type": "markdown",
   "id": "4d4dca9d-83ee-47a9-a0c0-8c945bb2c996",
   "metadata": {},
   "source": [
    "The Earth's atmosphere absorbs light, and the amount of light absorbed depends on the angle of the star above the horizon. If we didn't correct this effect, observations of objects at different times of night would give different magnitudes! We'll see how to correct for extinction below, but first we need to work out how extinction depends on the angle of the star above the horizon.\n",
    "\n",
    "We can derive a simple equation for the extinction correction by assuming the atmosphere is a series of thin plane-parallel layers. The figure below shows such a layer, of thickness dx at an altitude x. The path length through the layer for light from a star at a zenith distance $z$ is equal to $dx/cosz=dxsecz$. The term $secz$ is known as the airmass, and is sometimes given the symbol X. \n",
    "\n",
    "At the zenith, $X=secz=1$, and this increases to a value of 2 at a zenith distance of 60$^{\\rm o}$. Note that the approximation of the atmosphere as being plane-parallel breaks down at larger zenith distances. Due to the amount of extinction, it's a bad idea to observe astronomical objects this low, so we shall not worry about the curvature of the atmosphere here.\n",
    "\n",
    "![Aberration_2](Figures/Airmass.png)\n",
    "\n",
    "If the monochromatic flux from an object incident on the layer is $F_{\\lambda}$ then the flux absorbed by the layer $dF_{\\lambda}$ will be proportional to both $F_{\\lambda}$ and the path length through the layer. Therefore:\n",
    "$$\n",
    "dF_{\\lambda}=−\\alpha_\\lambda F_{\\lambda} \\sec z dx,\n",
    "$$\n",
    "\n",
    "where the constant of proportionality, $\\alpha_\\lambda$ is known as the absorption coefficient, with units of m$^{-1}$. The absorption coefficient is a function of the composition and density of the atmosphere, and hence the altitude of the layer, x. We can re-arrange this equation (and drop the $\\lambda$ subscripts for clarity) to give\n",
    "$$\n",
    "\\frac{dF}{F}=−\\sec z \\: \\alpha \\: dx.\n",
    "$$\n",
    "Integrating the equation above for x values from the top of the atmosphere, t, to the bottom b, we obtain\n",
    "$$\n",
    "\\int ^b _t \\frac{dF}{F} =−\\sec z \\: \\int ^b _t \\alpha \\: dx.\n",
    "$$\n",
    "\n",
    "Hence\n",
    "$$\n",
    "\\frac{F_b}{F_t}=\\frac{F}{F_0}=\\exp\\left(−\\sec z \\: \\int ^b _t \\alpha \\: dx\\right)\n",
    "$$\n",
    "If you recall the definition of magnitude (from last year, but don't worry, we'll be going over it in the next lecture anyway), then we can say\n",
    "$$\n",
    "    m - m_0 = -2.5\\log_{10}\\left( \\frac{F}{F_0} \\right) = 2.5 \\sec z \\log_{10} (e) \\int^b_t \\alpha {\\rm d} x\n",
    "$$\n",
    "If we now define \n",
    "$$\n",
    "    k = 2.5 \\log_{10} (e) \\int^b_t \\alpha {\\rm d} x\n",
    "$$\n",
    "then we get\n",
    "$$\n",
    "    m = m_0 + k \\sec (z) = m_0 + k X\n",
    "$$\n",
    "$k$ is a constant that can be measured experiementally, and for the common observing filters, has values as given below.\n",
    "\n",
    "| Filter      | $\\lambda_{\\rm eff}$ (nm) | k (mags/airmass) | \n",
    "| ----------- | ----------- | ----------- |\n",
    "| U      | 360       | 0.55 |\n",
    "| B   | 430        | 0.25 |\n",
    "| V   | 550        | 0.15 |\n",
    "| R   | 650        | 0.09 |\n",
    "| I   | 820        | 0.06 |\n"
   ]
  },
  {
   "cell_type": "markdown",
   "id": "6938febb-bfa5-4e09-b60e-79f275c1e6da",
   "metadata": {},
   "source": [
    "## Proper Motion"
   ]
  },
  {
   "cell_type": "markdown",
   "id": "b6eebc90-5a41-42b6-a2c3-157c8b2a2134",
   "metadata": {},
   "source": [
    "\n",
    "Next, we consider the effects of a stars proper motion across the night sky. Consider an observer, and a star with velocity **v** as shown below. In spherical coordinates, this velocity has two components - a radial component, $v_{\\rm r}$, and an angular component $v_{\\rm \\theta}$. If we're tracking a stars position across the celestial sphere, then we are only measuring $v_{\\rm \\theta}$, which is known as the **transverse velocity**. Now, consider a time interval $\\Delta t$. Over this time, an object will have moved a distance $\\Delta d$ relative to our line of sight\n",
    "$$\n",
    " \\Delta d = v_{\\rm \\theta} \\Delta t.\n",
    "$$\n",
    "If the distance, r, to the object is known, then the angular change across the celestial sphere is given by\n",
    "$$\n",
    " \\Delta \\theta = \\frac{\\Delta d}{r} = \\frac{v_{\\rm \\theta} \\Delta t}{r}.\n",
    "$$\n",
    "The **proper motion** of an object, that is the change of this angle with time, is then given by\n",
    "$$\n",
    " \\mu \\equiv \\frac{d \\theta}{d t} = \\frac{v_{\\rm \\theta}}{r}.\n",
    "$$\n",
    "\n",
    "So, in practice, what is the expression for $\\theta$? Consider a star which moves between point A and B on the celestial sphere, as shown below.\n",
    "\n",
    "![Celestial Sphere_RA_Dec](Figures/Proper_motion.png)\n",
    "\n",
    "First, we can write the expression:\n",
    "$$\n",
    "    \\frac{\\sin{\\Delta\\theta}}{\\sin{\\Delta\\alpha}} = \\frac{\\sin(90^{\\rm o}-(\\delta+\\Delta\\delta))}{\\sin{\\phi}}\n",
    "$$\n",
    "This can  be rewritten as \n",
    "$$\n",
    "    \\sin\\Delta\\alpha \\cos(\\delta+\\Delta\\delta) = \\sin\\Delta\\theta \\sin\\phi.\n",
    "$$\n",
    "Now using the small angle approximation for anything with $\\Delta\\delta$ in it (which is likely true for objects moving across the night sky!), we get\n",
    "$$\n",
    "    \\Delta\\alpha \\cos(\\delta+\\Delta\\delta) = \\Delta\\theta \\sin\\phi.\n",
    "$$\n",
    "$\\cos(\\delta+\\Delta\\delta)$ can be Taylor expanded around $\\Delta\\delta\\sim0$ to give\n",
    "$$\n",
    "    \\cos(\\delta+\\Delta\\delta) = \\cos(\\delta)-\\Delta\\delta\\sin(\\delta)+... \\approx \\cos(\\delta)\n",
    "$$\n",
    "which then leaves us with \n",
    "$$\n",
    "    \\Delta\\alpha = \\Delta\\theta \\frac{\\sin\\phi}{\\cos(\\delta)}.\n",
    "$$\n",
    "Now, in order to solve for $\\Delta\\theta$ and remove $\\phi$, we need to use the law of cosines:\n",
    "$$\n",
    "\\cos[90^{\\rm o}-(\\delta+\\Delta\\delta)]=\\cos(90^{\\rm o}-\\delta)\\cos(\\Delta\\theta)+\\sin(90^{\\rm o}-\\delta)\\sin(\\Delta\\theta)\\cos(\\phi)\n",
    "$$\n",
    "Which, by substituing $\\cos[90^{\\rm o}-(\\delta+\\Delta\\delta)]=\\sin(\\delta+\\Delta\\delta)=\\sin(\\delta)\\cos(\\Delta\\delta)+\\cos(\\delta)\\sin(\\Delta\\delta)$ and using the small angle approximation becomes\n",
    "$$\n",
    "    \\Delta\\delta=\\Delta\\theta\\cos\\phi\n",
    "$$\n",
    "Cominbing this with the equation above gives\n",
    "$$\n",
    "    (\\Delta\\theta)^2=(\\Delta\\delta)^2+(\\Delta\\alpha\\cos\\delta)^2\n",
    "$$\n",
    "This gives a very handy expression for calculating the angular separation between two objects."
   ]
  },
  {
   "cell_type": "code",
   "execution_count": null,
   "id": "636033f4-fb85-43fa-ba1c-f0f7fa86c715",
   "metadata": {},
   "outputs": [],
   "source": []
  }
 ],
 "metadata": {
  "kernelspec": {
   "display_name": "Python 3 (ipykernel)",
   "language": "python",
   "name": "python3"
  },
  "language_info": {
   "codemirror_mode": {
    "name": "ipython",
    "version": 3
   },
   "file_extension": ".py",
   "mimetype": "text/x-python",
   "name": "python",
   "nbconvert_exporter": "python",
   "pygments_lexer": "ipython3",
   "version": "3.8.10"
  }
 },
 "nbformat": 4,
 "nbformat_minor": 5
}
