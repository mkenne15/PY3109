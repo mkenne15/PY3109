{
 "cells": [
  {
   "cell_type": "markdown",
   "id": "477ea7d7-ce41-4555-8030-8f685fa85713",
   "metadata": {},
   "source": [
    "# The Stellar Interior"
   ]
  },
  {
   "cell_type": "markdown",
   "id": "9c8613fd-9d5f-4ffc-86c0-ab0f26f6e85b",
   "metadata": {},
   "source": [
    "Now that we know the conditions required to form a star, it's time to turn our attention to the behaviour of matter and radiation within the stellar interior. We will largely be considering an ideal gas, and we'll need to pay attention to both quantum mechanical and special relativistic effects in our treatment."
   ]
  },
  {
   "cell_type": "markdown",
   "id": "aaec93a6-8017-4216-95a2-7d65e859c4f9",
   "metadata": {
    "tags": []
   },
   "source": [
    "## Mean Path Length"
   ]
  },
  {
   "cell_type": "markdown",
   "id": "1c58aa9d-9610-43df-992a-27c9e3af74d2",
   "metadata": {},
   "source": [
    "Now, consider a photon which emerges from a nuclear burning core, as shown below. It encounters an atom at 1, interacts, and emerges at an angle, and moves to encounter another atom at position 2. This repeats until after atom 4. At this stage, the photon has travelled a long distance (summation of blue arrows), but relative to the core, has only moved slightly outwards (green arrow). After N number of interactions, it will finally escape into space - but how many interactions is this? And how long does it take?\n",
    "\n",
    "![Mean Free Path](Figures/Mean_Path_Length.png)\n",
    "\n",
    "First, let's assume a mean-free-path length, ${\\bf l}$, which is the mean distance travelled between interactions. The distance $D$ travelled is the summation of the vectors ${\\bf D}={\\bf l}_1+{\\bf l}_2+{\\bf l}_3+...+{\\bf l}_N$. Squaring this, we get\n",
    "$$\n",
    "    D^2=l_1^2+l_2^2+l_3^2+...+l_N^2+({\\bf l}_1 \\cdot {\\bf l}_2 + {\\bf l}_1 \\cdot {\\bf l}_3+...)\n",
    "$$\n",
    "Now, over a large number of steps, $N$, all of the dot products should cancel, assuming every step is random. Thus, we get\n",
    "$$\n",
    "    D^2=l_1^2+l_2^2+l_3^2+...+l_N^2\n",
    "$$\n",
    "and assuming that every step is approximately the same distance,\n",
    "$$\n",
    "    D^2=Nl^2\n",
    "$$\n",
    "\n",
    "Assuming a mean free path of 1 mm, and that the radius of the run is $7\\times 10^8$ m, we find that a photon approximately undergoes $N=5 \\times 10^{23}$ scatterings. The time between each scattering is approxmiately $l/c$, and so it takes light $\\sim 50,000$ years to reach the surface. This also means the light we are seeing from the Sun is not a good indicator of what is currently going on in the core. More direct probes, like measuring the solar neutrino flux, can give us direct insight into the core."
   ]
  },
  {
   "cell_type": "markdown",
   "id": "9b2a4b40-0742-40b1-b4a3-b406c5997f80",
   "metadata": {},
   "source": [
    "## Density of states"
   ]
  },
  {
   "cell_type": "markdown",
   "id": "9c7ac2ae-8cff-4311-8434-e8da48f69a47",
   "metadata": {},
   "source": [
    "In order to derive the equation of state of an ideal gas from statistical mechanics, we require a few results from quantum mechanics, and a more general discussion on the partition function. The first thing we need to do is to figure out what the allowed states are for an ideal gas, as we need this for the partition function.\n",
    "\n",
    "Imagine a cube with dimensions $L\\times L \\times L$ and a volume of $V$, filled with a gas. Each molecule in the gas will have a mass $m$ and momentum ${\\bf p}$. For convenience, we are going to use the parameter ${\\bf k}=\\frac{{\\bf p}}{\\hbar}$, which is also known as the wave vector.\n",
    "\n",
    "The result we require from quantum mechanics is that the solution to the Schrodinger equation for a particle which is trapped in a box is\n",
    "$$\n",
    "    \\psi (x,y,z) = \\left(\\frac{2}{L}\\right)^{3/2} \\sin (k_x x)\\sin (k_y y)\\sin (k_z z)\n",
    "$$\n",
    "\n",
    "The leading factor here is a normalising factor such that $\\int |\\psi|^2 = 1$. Ok, now we are going to impose that the particles must be inside of the box. This means that the wave equation must go to 0 at the boundaries of our cube ($x=0$,$x=L$,$y=0$,$y=L$,$z=0$,$z=L$). This occurs when\n",
    "$$\n",
    "    k_x = \\frac{n_x \\pi}{L}, \\: \\: \\: k_y = \\frac{n_y \\pi}{L}, \\: \\: \\: k_z = \\frac{n_z \\pi}{L}\n",
    "$$\n",
    "where $n_x,n_y, n_z$ are all positive integers. This means that every state that a particle can exist in within the box can be specified by a triplet of integers. As such, we can represent these states in three-dimensional k-space. The distance between a given point and a point in any other direction is thus $\\pi / L$. To really see this, imagine we were doing this in two dimensions instead of three.\n",
    "\n",
    "Back in 3 dimensions, this means that a single point in k-space occupies a volume of\n",
    "$$\n",
    "    \\frac{\\pi}{L}\\times\\frac{\\pi}{L}\\times\\frac{\\pi}{L} = \\left(\\frac{\\pi}{L}\\right)^3\n",
    "$$\n",
    "\n",
    "Now, let's say we have a wave vector $k=|{\\bf k}|$. The number of allowed states with a wave vector whose magnitude lies between $k$ and $k+{\\rm d}k$ lie within one octant of a spherical shell shell of radius $k$ and thickness $k+{\\rm d}k$ (where we are only concerned with 1 octant as we are only allowing $k_x,k_y,k_z$ to be positive).  The volume occupied by this shell is\n",
    "$$\n",
    "    \\frac{1}{8} 4\\pi k^2 {\\rm d} k\n",
    "$$\n",
    "![DoS](Figures/Density_of_States.png)\n",
    "\n",
    "As such, the number of allowed states with a wave vector whose magnitude lies between $k$ and $k+{\\rm d} k$ is given by $g(k){\\rm d}k$ where $g(k)$ is the density of states. This number of states is given by\n",
    "$$\n",
    "    g(k){\\rm d}k = \\frac{{\\rm volume\\;in\\;k-space\\;of\\;one\\;octant\\;of\\;the\\;spherical\\;shell}}{{\\rm volume\\;in\\;k-space\\;occupied\\;per\\;allowed\\;state}}\n",
    "$$\n",
    "This implies that\n",
    "$$\n",
    "    g(k){\\rm d}k = \\frac{1}{8}\\frac{4\\pi k^2 {\\rm d} k}{(\\pi/L)^3} = \\frac{V k^2 {\\rm d} k}{2\\pi^2}\n",
    "$$\n",
    "Recalling that the de Broglie wavelength is $\\lambda=h/p$, and now using $k=2\\pi/\\lambda$, then we get that $p=\\hbar k$. Using this relation in the above, we finally arrive at an expression for the density of states in terms of momentum\n",
    "$$\n",
    "    g(p)dp=\\frac{V}{h^3} 4 \\pi p^2 dp\n",
    "$$\n",
    "This result needs to be adapted to account for the fact that states can have identical momentum, but different quantum spins. So if $g_s$ is the number of spin values a particle can have, this expression becomes\n",
    "$$\n",
    "    g(p)dp=g_s\\frac{V}{h^3} 4 \\pi p^2 dp\n",
    "$$"
   ]
  },
  {
   "cell_type": "markdown",
   "id": "5716d85f-4ba6-4bc9-8a1c-d21370232a5f",
   "metadata": {},
   "source": [
    "## Internal Energy"
   ]
  },
  {
   "cell_type": "markdown",
   "id": "55b85729-bc41-491f-8b80-166bc6139d13",
   "metadata": {},
   "source": [
    "Ok, in order to calculate the internal kinetic energy of the gas, we need three things: the density of states, the energy of each quantum state, and the number of particles in each of the states. We now have an expression for the density of states, so let's next consider the energy. From special relativity, we know that the energy of a quantum state for a given momentum $p$ is\n",
    "$$\n",
    "    \\epsilon_p^2 = p^2c^2+m^2c^4\n",
    "$$\n",
    "Assumine the average number of particles in a state with energy $\\epsilon_p$ is $f(\\epsilon_p)$, then we get that\n",
    "$$\n",
    "    E = \\int^{\\infty}_0 \\epsilon_p f(\\epsilon_p) g(p) dp\n",
    "$$ \n",
    "and that the total number of particles is\n",
    "$$\n",
    "    N = \\int^{\\infty}_0 f(\\epsilon_p) g(p) dp\n",
    "$$\n",
    "From here on, the macroscopic properties of the gas will be given as $T$ (temperature), $P$ (pressure), and $\\mu$ (the chemical potential). For a change in entropy, volume, and number of particles, our gas should then follow the relation:\n",
    "$$\n",
    "    {\\rm d} E = T {\\rm d}S - P {\\rm d}V + \\mu {\\rm d} N\n",
    "$$\n",
    "On a microscopic scale, these parameters control the distribution of the particles in the various states. This distribution depends on wheter the particles are fermions (1/2 integer spin, electrons, protons, etc) or bosons (integer spins, photons).\n",
    "\n",
    "### Fermions\n",
    "Fermions obey Fermi-Dirac statistics, and must follow the Pauli exclusion principle. That is, no more than 1 particle can be in a given quantum state. The distribution in this case is given by:\n",
    "$$\n",
    "    f(\\epsilon_p) = \\frac{1}{\\exp[(\\epsilon_p - \\mu)/kT]+1}\n",
    "$$\n",
    "\n",
    "### Bosons\n",
    "For bosons, any number of particles can be in a given state, and the distribution follows a Bose-Einstein distribution\n",
    "$$\n",
    "    f(\\epsilon_p) = \\frac{1}{\\exp[(\\epsilon_p - \\mu)/kT]-1}\n",
    "$$\n",
    "\n",
    "For a dilute classical gas, we require that $f(\\epsilon_p)<<1$. In this limit, both of these distributions become very similar, and we end up with \n",
    "$$\n",
    "    \\exp[(\\epsilon_p - \\mu)/kT]>>1\n",
    "$$\n",
    "This also gives us the relation\n",
    "$$\n",
    "    f(\\epsilon_p) \\sim \\exp[-(\\epsilon_p - \\mu)/kT]\n",
    "$$"
   ]
  },
  {
   "cell_type": "markdown",
   "id": "5c8e9e2d-91fa-4207-8d46-a09102724a0b",
   "metadata": {},
   "source": [
    "## Pressure"
   ]
  },
  {
   "cell_type": "markdown",
   "id": "3d421f41-1654-4227-84fc-cd3d96e74e95",
   "metadata": {},
   "source": [
    "### Classical gas\n",
    "\n",
    "Now, let's assume we have a change in volume, but no change in entropy or particle number. As such, $dE=-PdV$. Using\n",
    "$$\n",
    "    E = \\int^{\\infty}_0 \\epsilon_p f(\\epsilon_p) g(p) dp\n",
    "$$\n",
    "we then get that\n",
    "$$\n",
    "    P = -\\frac{dE}{dV} = - \\int^{\\infty}_0 \\frac{d\\epsilon_p}{dV} f(\\epsilon_p) g(p) dp\n",
    "$$\n",
    "Let's now write\n",
    "$$\n",
    "    \\frac{d\\epsilon_p}{dV} = \\frac{d\\epsilon_p}{dp}\\frac{dp}{dV}\n",
    "$$\n",
    "We can also substitute\n",
    "$$\n",
    "    \\frac{dp}{dV} = -\\frac{p}{3V}\n",
    "$$\n",
    "by realising that momentum, $p$, is inversly proportional to $L$, and $L$ is proportional to $V^{1/3}$. Finally,\n",
    "$$\n",
    "    \\frac{d\\epsilon_p}{dp}=\\frac{pc^2}{\\epsilon_p}=v_p\n",
    "$$\n",
    "Thus \n",
    "$$\n",
    "    \\frac{d\\epsilon_p}{dV} = -\\frac{pv_p}{3V}\n",
    "$$\n",
    "Subbing back into the above gives\n",
    "$$\n",
    "    P  = \\int^{\\infty}_0 \\frac{pv_p}{3V} f(\\epsilon_p) g(p) dp = \\frac{N}{3V}<pv_p>\n",
    "$$\n",
    "For non relativistic particles, $\\epsilon_p=mc^2+p^2/2m$ and $v_p=p/m$, leading to\n",
    "$$\n",
    "    P=\\frac{2N}{3V}<\\frac{p^2}{2m}>\n",
    "$$\n",
    "which means the P=2/3 x the kinetic energy density.\n",
    "\n",
    "For ultra-relativistic gasses, $\\epsilon_p=pc$ and $v_p=c$, so \n",
    "$$\n",
    "    P=\\frac{N}{3V}<pc>\n",
    "$$\n",
    "which means the P=1/3 x the kinetic energy density."
   ]
  },
  {
   "cell_type": "code",
   "execution_count": null,
   "id": "6e548183-82a1-4f46-ad7e-40e3818dde14",
   "metadata": {},
   "outputs": [],
   "source": []
  }
 ],
 "metadata": {
  "kernelspec": {
   "display_name": "Python 3 (ipykernel)",
   "language": "python",
   "name": "python3"
  },
  "language_info": {
   "codemirror_mode": {
    "name": "ipython",
    "version": 3
   },
   "file_extension": ".py",
   "mimetype": "text/x-python",
   "name": "python",
   "nbconvert_exporter": "python",
   "pygments_lexer": "ipython3",
   "version": "3.11.11"
  }
 },
 "nbformat": 4,
 "nbformat_minor": 5
}
