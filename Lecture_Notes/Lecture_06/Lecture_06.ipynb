{
 "cells": [
  {
   "cell_type": "code",
   "execution_count": 2,
   "id": "458a6a00-0c7c-4512-9097-b3d77481e085",
   "metadata": {},
   "outputs": [],
   "source": [
    "import numpy as np\n",
    "import matplotlib.pyplot as plt\n",
    "import astropy.units as u\n",
    "import astropy.constants as c\n",
    "from dust_extinction.averages import GCC09_MWAvg"
   ]
  },
  {
   "cell_type": "markdown",
   "id": "8313193a-3a0f-449d-942d-b3835fa701b2",
   "metadata": {},
   "source": [
    "# The Signal-to-Noise Equation"
   ]
  },
  {
   "cell_type": "markdown",
   "id": "bf14c6bc-4707-4af1-a42d-36f0db20d00e",
   "metadata": {},
   "source": [
    "<div class=\"alert alert-block alert-success\">\n",
    "    <b> Key Question </b>\n",
    "\n",
    "How do we estimate whether a telescope will be able to detect a given source?\n",
    "</div>"
   ]
  },
  {
   "cell_type": "markdown",
   "id": "526681c8-a04b-4d19-8a0b-3ec5ee7e506d",
   "metadata": {},
   "source": [
    "## Optical"
   ]
  },
  {
   "cell_type": "markdown",
   "id": "89d4e88a-3c3c-4721-b9d0-5db4851f3442",
   "metadata": {},
   "source": [
    "Now imagine we wish to measure the signal-to-noise(SNR) ratio of a star. This is given by:\n",
    "$$\n",
    "    {\\rm SNR} = \\frac{Signal}{Noise}\n",
    "$$\n",
    "For a CCD, there are 4 main sources of noise:\n",
    "- Shot noise due to $S_0$ photons from the source, $\\sigma_0=\\sqrt S_0$\n",
    "- Shot noise due to $S_b$ photons from the background, $\\sigma_b=\\sqrt S_b$\n",
    "- Shot noise due to $S_d$ counts casued by the thermal properties of the CCD, $\\sigma_d=\\sqrt S_d$.\n",
    "- A time independant readout out noise, $\\sigma_R=R$. This is not a square root, and is the standard deviation in the number of electrons measured at the readout step.\n",
    "\n",
    "Let's assume all of these processes are independant. We are also going to assume they all involve high enough numbers that they are Gaussians. As such, the variance of the sum is the sum of the variances, $\\sigma_{\\rm Total}^2 = \\sigma_0^2+\\sigma_b^2+\\sigma_d^2+\\sigma_R^2$. As such, the noise term, $N=\\sigma_{\\rm Total}$, is given by\n",
    "$$\n",
    "    N = \\sqrt{S_0+S_b+S_d+R^2}\n",
    "$$\n",
    "and thus the Signal-to-Noise ratio is given by\n",
    "$$\n",
    "    {\\rm SNR} = \\frac{S_0}{\\sqrt{S_0+S_b+S_d+R^2}}.\n",
    "$$\n",
    "This is the most basic form of this equation. Note that $S_0$, $S_b$, and $S_d$ will all scale linearly with exposure time.\n",
    "\n",
    "There are 3 limiting cases for the basic form of the equation.\n",
    "\n",
    "1. **Object limited: $S_0 >> S_b,S_d,R^2$**.\n",
    "    In this case, the equation simplifies to ${\\rm SNR}=\\frac{S_0}{\\sqrt S_0}=\\sqrt {S_0}$. Since the number of counts detected, $S_0$, is proportional to time, then SNR $\\propto \\sqrt{t}$. This means you eventually get diminishing returns on increasing your exposure time. Additionally, $S_0$ is proportional to $D^2$, where D is the aperture of the telescope. As such, SNR $\\propto D$.\n",
    "2. **Background limited: $S_b >> S_0,S_d,R^2$**\n",
    "    In this case, we get  ${\\rm SNR}=\\frac{S_0}{\\sqrt S_b}$. Both $S_0$ and $S_b$ scale the same way with exposure time and telescope aperture, and the SNR scales the same as in the above. For fixed $S_0$, the SNR scales with the square root of the background signal - so if your background increases (because for example the moon rises), the SNR drops. This is important in determining when to observer your targets - can they withstand a bright moon, or do you need no moon at all?\n",
    "3. **Read noise limited: $R^2 >> S_0,S_b,S_d$**\n",
    "    Read noise is indepedant of exposure time, so this typically only occurs for short exposures. ${\\rm SNR}=\\frac{S_0}{R}$. In this regime, since $R is time independant, SNR scales linearly with time and with the square of the aperture."
   ]
  },
  {
   "cell_type": "markdown",
   "id": "b959feb7-1510-48e4-89a0-b0cb680415de",
   "metadata": {},
   "source": [
    "# Infrared Astronomy"
   ]
  },
  {
   "cell_type": "markdown",
   "id": "f29f8951-59b8-4716-b818-4f1738e2c6d1",
   "metadata": {},
   "source": [
    "Recall Wien's displacement law, which states that\n",
    "$$\n",
    "    \\lambda \\: T = {\\rm constant} = 2898  {\\rm \\mu m \\: K}\n",
    "$$\n",
    "So stars with a temperature of 2500 Kelvin will peak in Intensity at a wavelength of $1.2$ $\\mu$m. So if we want to observed the coolest stars (M-dwarfs), around which we've found a lot of exoplanets (which are also very cold objects), then we need to move to infrared wavelengths. This region is also where we're likely to see the optical spectra of highly redshifted Galaxies, making this a very important window for astronomy.\n",
    "\n",
    "One of the largest issues comes from the thermal radiation produced by the sky and the telescopes themselves. IR instruments are typically cooled to minimise these effects, normally with liquid He. This of course means they have limited lifespans - the helium on the Spitzer space telescope lasted for 5 years.\n",
    "\n",
    "1-5 $\\mu$m observations can be done from the ground, but above this, it is much better to go to space (especially > 25 $\\mu$m).\n",
    "\n",
    "IR astronomy comes with one other major advantage over Optical astronomy. The effects of interstellar extinction are far weaker at IR wavelengths than at optical wavelengths.\n",
    "\n",
    "Typically, when discussing interstellar extinction, a value is given as $A_{\\rm V}$. This represents the magnitude of light absorbed due to interstellar extinction in the Johnson V band. So $A_{\\rm V}=5$ means 5 mags are absorbed at V band, and so an object will appear 100 times fainter in the night sky than it should. The below figure shows extinction as a function of wavelength - it is stronger at short wavelengths, meaning it affects optical astronomy quite significantly.\n",
    "\n",
    "Very roughly, there is a linear dependance on $A_{\\rm V}$ with distance, with $A_{\\rm V}=1$ corresponding to a rough distance of 1 kpc."
   ]
  },
  {
   "cell_type": "code",
   "execution_count": 3,
   "id": "d8ae962c-d72d-4afa-a618-c908fee718fd",
   "metadata": {},
   "outputs": [
    {
     "data": {
      "image/png": "[encoded data removed]",
      "text/plain": [
       "<Figure size 432x288 with 1 Axes>"
      ]
     },
     "metadata": {
      "needs_background": "light"
     },
     "output_type": "display_data"
    },
    {
     "name": "stdout",
     "output_type": "stream",
     "text": [
      "Ratio of extinction in K band to V band is: 0.12533034482999322\n"
     ]
    }
   ],
   "source": [
    "fig, ax = plt.subplots(figsize=[6,4],ncols=1)\n",
    "\n",
    "# generate the curves and plot them\n",
    "x = np.arange(0.3,10.0,0.1)/u.micron\n",
    "ext_model = GCC09_MWAvg()\n",
    "\n",
    "ax.plot(1./x,ext_model(x))\n",
    "\n",
    "ax.set_title('Normalized Extinction, with enhancement at 217.5 nm.')\n",
    "ax.set_xlabel('$\\lambda$ [$\\mu m$]')\n",
    "ax.set_ylabel('$A(\\lambda)/A(V)$')\n",
    "ax.set_xscale('log')\n",
    "ax.set_xlim(0.09,4.0)\n",
    "ax.axvline(0.2175,linestyle='--',color='k')\n",
    "\n",
    "plt.tight_layout()\n",
    "plt.savefig(\"Figures/Extinction_Curve.png\")\n",
    "plt.show()\n",
    "\n",
    "print(\"Ratio of extinction in K band to V band is:\",ext_model(2*u.micron))"
   ]
  },
  {
   "cell_type": "markdown",
   "id": "8f6d176a-dcfd-4e17-aa2d-58f41626a276",
   "metadata": {},
   "source": [
    "<div class=\"alert alert-block alert-info\">\n",
    "    <b>Example: A star with $A_{\\rm V}=10$</b>\n",
    "\n",
    "Imagine we are observing a star through a dust cloud, and that $A_{\\rm V}=10$ mag. The extintion at K band (which is at 2 $\\mu$m) would be:\n",
    "$$\n",
    "    \\frac{A_{\\rm K}}{A_{\\rm V}}=0.1253303\\\\\n",
    "    A_{\\rm K}=10\\times0.1253303=1.2\n",
    "$$\n",
    "So there's only 1.2 mags of extinction at the K band. Now if we assume that the object is equally bright in both V and K bands, that means the object is ~ 3000 brighter in the K band than in the V band!\n",
    "</div>"
   ]
  },
  {
   "cell_type": "markdown",
   "id": "c689bc60-14c6-438f-888d-69373d7dbdc0",
   "metadata": {},
   "source": [
    "So, observing at IR wavelengths allows us to see objects which are heavily obscured by dust at optical wavelengths, such as star forming regions, galactic centres, etc!"
   ]
  },
  {
   "cell_type": "markdown",
   "id": "50e80cb4-800f-49c3-86cf-79b87e0fe28f",
   "metadata": {},
   "source": [
    "# Radio Astronomy"
   ]
  },
  {
   "cell_type": "markdown",
   "id": "5037297e-98a3-461e-91a2-e6e9ff77d72c",
   "metadata": {},
   "source": [
    "Karl Jansky observed the first radio waves coming from our Galaxy, when he found evidence for periodic radio emission. He first thought it was from the Sun, but after several months of observations, he found the period to be 23 hr and 56 min, and was coming from the centre of the Milky Way.\n",
    "\n",
    "The strength of radiation from a radio source is typically given by the Spectral Flux Density, $S(\\nu)$, and normally has units of Jy (1 Jy = $1\\times10^{-26}$ W/m$^2$/Hz). This turns out to be a very bright unit. The most common astrophysical sources are typically in the mJy to $\\mu$Jy range.\n",
    "\n",
    "Imagine a telescope has efficiency of $f(\\nu)$ at $\\nu$. The power recieved by the telescope from a source is then given by\n",
    "\n",
    "$$\n",
    "    P=\\int_A \\int_\\nu S(\\nu)f(\\nu) d\\nu dA\n",
    "$$\n",
    "\n",
    "where A is the collecting area of your telescope.\n",
    "\n",
    "If $S(\\nu)$ is constant over the frequency range of interest $\\Delta\\nu$, and if our efficiency is 1, then\n",
    "\n",
    "$$\n",
    "    P=S \\: A \\: \\Delta \\nu \\: (\\rm Watts)\n",
    "$$"
   ]
  },
  {
   "cell_type": "markdown",
   "id": "ad993921-ae0a-4a7e-a35a-f8fbb1180657",
   "metadata": {},
   "source": [
    "## Interferometry"
   ]
  },
  {
   "cell_type": "markdown",
   "id": "8b2d7f5a-66ca-4576-89c9-390545374946",
   "metadata": {},
   "source": [
    "Now, let's consider the Rayleigh criteria from the last lecture again. Assuming an observing wavelength $\\lambda=10cm$, and a dish with diameter 50m. The resolution of such a telescope is  roughly 8 arcmins.\n",
    "\n",
    "Now, consider two radio dishes, separated by a distance L, and joined by a correlator. The path difference between the two telescopes for incoming photons, $c \\: t$, is given by $c \\: t=L\\sin(\\theta)$. Because of this path difference, the photons arriving at the two dishes are out of phase with each other. By design or through use of time delay, we can ensure that $c \\: t=n \\: \\lambda$, where $n$ is an integer. As such, the photons arriving at telescope 1 and 2 can be constructively interferred. This then means that $n \\lambda = L\\sin(\\theta)$. At this stage, the entire setup becomes analogous to Young's Double Slit experiment.\n",
    "\n",
    "Now assume that the angle $\\theta$ changes by a small angle $\\Delta \\theta$. The difference between the new and old time delay,$c \\Delta t$, is given by $c \\Delta t \\sim L\\Delta \\theta$. \n",
    "\n",
    "In order for the photons to constuctively interfer again, and for us to see a maximum in intensity in our interference pattern, the change in the path length must at least $c \\Delta t \\sim \\lambda$ - if it is less, the photons will not. Thus, in order to see another peak in the inteference pattern, the minimum angular distance is given by  $\\Delta \\theta \\sim \\frac{\\lambda}{L}$.\n",
    "\n",
    "![SingleSlit](Figures/Interferometry.png)\n",
    "\n",
    "This gives the approximate resolution of a interferometer. If $L$ is large, then $\\Delta \\theta$ is very small."
   ]
  },
  {
   "cell_type": "markdown",
   "id": "2ceab488-fc4b-458a-8818-74a3739af8ec",
   "metadata": {},
   "source": [
    "<div class=\"alert alert-block alert-info\">\n",
    "    <b>Very Long Baseline Interferometry (VLBI)</b>\n",
    "\n",
    "Imagine we had 2 dishes separated by the diamter of the Earth, and observing at 10cm. The resolution of the combined dishes would be $1.6\\times10^{-3}$ arcseconds!\n",
    "    \n",
    "</div>"
   ]
  }
 ],
 "metadata": {
  "kernelspec": {
   "display_name": "Python 3 (ipykernel)",
   "language": "python",
   "name": "python3"
  },
  "language_info": {
   "codemirror_mode": {
    "name": "ipython",
    "version": 3
   },
   "file_extension": ".py",
   "mimetype": "text/x-python",
   "name": "python",
   "nbconvert_exporter": "python",
   "pygments_lexer": "ipython3",
   "version": "3.8.10"
  }
 },
 "nbformat": 4,
 "nbformat_minor": 5
}
