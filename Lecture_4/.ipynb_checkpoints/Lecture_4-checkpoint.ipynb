{
 "cells": [
  {
   "cell_type": "code",
   "execution_count": 1,
   "id": "824353b8-ec93-4ce0-a5d3-fe690dd26765",
   "metadata": {},
   "outputs": [],
   "source": [
    "# Importing necessary modules\n",
    "import numpy as np\n",
    "import matplotlib.pyplot as plt\n",
    "from datetime import datetime\n",
    "from astropy.time import Time\n",
    "from astropy import units as u\n",
    "from astropy.coordinates import solar_system_ephemeris, EarthLocation, get_sun"
   ]
  },
  {
   "cell_type": "markdown",
   "id": "bafe26f7-b4cf-4c90-87a6-20916919b250",
   "metadata": {
    "jp-MarkdownHeadingCollapsed": true,
    "tags": []
   },
   "source": [
    "<div class=\"alert alert-block alert-success\">\n",
    "    <b> Key Question</b>\n",
    "\n",
    "How do we convey the positions of stars in the night sky to people who are observing from a different place on the Earths surface, or who live at different time to us (and make sense of observations taken thousands of years ago)? Defining a coordinate system which accounts for the tilt and precession of the Earths spin axis relative to the Sun-Earth orbital plane is non-trivial, and in order to understand it, we must go back to the ancient Greeks.\n",
    "    \n",
    "</div>"
   ]
  },
  {
   "cell_type": "markdown",
   "id": "7adbe858-b05a-4a8f-a621-56259c9074f1",
   "metadata": {},
   "source": [
    "# Section 2: Distances, Magnitudes, and the Hertzsprung-Russell Diagram"
   ]
  },
  {
   "cell_type": "markdown",
   "id": "aadcb112-8522-42b3-8fab-991ea31682b0",
   "metadata": {},
   "source": [
    "<div class=\"alert alert-block alert-success\">\n",
    "    <b> Key Question </b>\n",
    "\n",
    "How do we measure the distances to stars, and define how bright stars are? Once we know these parameters, what can they tell us about the structure of our Galaxy, and the hierarchy of stars?\n",
    "</div>"
   ]
  },
  {
   "cell_type": "markdown",
   "id": "c9128b66-9c0e-450d-8f00-432b9e3af9cc",
   "metadata": {},
   "source": [
    "## The distance and brightness of stars\n",
    "\n",
    "**Relevant Literature**: Chapter 3.1 of Carroll and Ostlie\n",
    "\n",
    "The most direct method of measuring the distance to a star is to measure its parallax. Consider a nearby star which is a distance D from the Sun. Over a half a year, it's position on the sky will vary relative to the background of stars which are far enough away that they don't show any motion.\n",
    "\n",
    "![Parallax](Images/Figure_3.png)\n",
    "\n",
    "The Earth lies 1 astronomical unit (1 AU $=1.49\\times10^{11}$ m) away from the Sun. As such, an object which exhibits a parallax of $\\theta=1\"$ has to be a distance\n",
    "$$\n",
    "    D = \\frac{1.49\\times10^{11} \\: {\\rm m}}{\\tan(\\theta)} \\approx \\frac{1.49\\times10^{11} \\: {\\rm m}}{\\theta} = 3.0856\\times10^{16}{\\rm m} \\equiv 1 {\\rm pc}\n",
    "$$"
   ]
  },
  {
   "cell_type": "code",
   "execution_count": 15,
   "id": "2c22c91e-b7e0-41a0-a744-cab7aacbea5c",
   "metadata": {},
   "outputs": [
    {
     "data": {
      "text/latex": [
       "$3.0856776 \\times 10^{16} \\; \\mathrm{m}$"
      ],
      "text/plain": [
       "<Quantity 3.08567758e+16 m>"
      ]
     },
     "execution_count": 15,
     "metadata": {},
     "output_type": "execute_result"
    }
   ],
   "source": [
    "theta = 1*u.arcsec\n",
    "D=1*u.au/np.tan(theta)\n",
    "D.to(u.m)"
   ]
  },
  {
   "cell_type": "markdown",
   "id": "ac578a57-41f4-42ad-afb7-0b1c8b072a28",
   "metadata": {},
   "source": [
    "Note that the nearest star to Earth, Proxima Centauri, is 1.3 parsecs away. This means the observed parallax is less than 1\". This is a very small angle, smaller than the average seeing from an observing site (where seeing is the dispersion of starlight by atmospheric turbulence.)\n",
    "\n",
    "A parallax measurement of 0.1-0.01\" can be done from the ground under exceptional observing conditions, but this only gets us out to a distance of 100 pc. Considering the Milky Way is 32kpc across, this is barely scratching the surface. As such, we need to get above the atmosphere to observe smaller parallaxes.\n",
    "\n",
    "<div class=\"alert alert-block alert-info\">\n",
    "    <b>Example: The sensitivity of Gaia</b>\n",
    "    \n",
    "GAIA is a space telescope which has achieved parallax measurements of $(1\\times10^{-4})$\". What is distance from the Sun would a star have to be exhibit such a parallax?\n",
    "    \n",
    "Using the above formula, we find\n",
    "$$\n",
    "    D=10 {\\rm kpc}\n",
    "$$\n",
    "</div>"
   ]
  }
 ],
 "metadata": {
  "kernelspec": {
   "display_name": "Python 3 (ipykernel)",
   "language": "python",
   "name": "python3"
  },
  "language_info": {
   "codemirror_mode": {
    "name": "ipython",
    "version": 3
   },
   "file_extension": ".py",
   "mimetype": "text/x-python",
   "name": "python",
   "nbconvert_exporter": "python",
   "pygments_lexer": "ipython3",
   "version": "3.8.10"
  }
 },
 "nbformat": 4,
 "nbformat_minor": 5
}
