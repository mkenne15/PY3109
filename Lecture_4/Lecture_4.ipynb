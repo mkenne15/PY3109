{
 "cells": [
  {
   "cell_type": "code",
   "execution_count": 1,
   "id": "824353b8-ec93-4ce0-a5d3-fe690dd26765",
   "metadata": {},
   "outputs": [],
   "source": [
    "# Importing necessary modules\n",
    "import numpy as np\n",
    "import matplotlib.pyplot as plt\n",
    "from datetime import datetime\n",
    "from astropy.time import Time\n",
    "from astropy import units as u\n",
    "from astropy.coordinates import solar_system_ephemeris, EarthLocation, get_sun"
   ]
  },
  {
   "cell_type": "markdown",
   "id": "3cbcc5a7-3dc2-400c-ac00-6005425c0ef5",
   "metadata": {},
   "source": [
    "## Observing from the Earths Surface\n",
    "### Right Ascenion (Time) Continued\n",
    "So a civil day (from now on, just referred to as day) lasts for 24 hours. However, the sidereal day lasts for 23 hours and 56 minutes. This means stars will rise and set 4 minutes earlier every day. Also, as stars move across the night sky, telescopes must track them at the sidereal rate.\n",
    "\n",
    "The right ascension of an object ($\\alpha$) is defined relative to the position of the Sun on the Vernel equinox ($\\gamma$ in previous diagrams). The below code shows that this happens between 22:57:29 and 22:57:30 on the 20th of March this year."
   ]
  },
  {
   "cell_type": "code",
   "execution_count": 37,
   "id": "3af7dc27-d24b-4a2d-bd05-45563b79eca9",
   "metadata": {},
   "outputs": [
    {
     "name": "stdout",
     "output_type": "stream",
     "text": [
      "[359d59m59.98109124s 0d00m00.0190618s]\n"
     ]
    }
   ],
   "source": [
    "time = [\"2022-03-20T22:57:29\",\"2022-03-20T22:57:30\"]\n",
    "t = Time(time,format='isot',scale='utc')\n",
    "with solar_system_ephemeris.set('builtin'):\n",
    "    sun = get_sun(t) # Get the location of the Sun\n",
    "print(sun.ra)"
   ]
  },
  {
   "cell_type": "markdown",
   "id": "1da3655e-0659-418a-854d-7098e04f1bc8",
   "metadata": {},
   "source": [
    "Now, from Greenwich, the sun passes through the meridian at noon. As such, any other star which lies on the meridian at noon from Greenwich has $\\alpha=0$ hrs. Furthermore, at midnight (12 hours later) any star lying on the meridian as observed from Greenwich will have $\\alpha=12$ hrs. This is the ideal time to observe a source with $\\alpha=12$, as it is at it's closest point to the Zenith, minimising the atmosphereic effects which hinder observations.\n",
    "\n",
    "One month later (towards the end of April), stars which are passing through the meridian at midnight will have a difference in right ascension of\n",
    "$$\n",
    "  \\alpha=\\frac{4 {\\rm min}}{60 {\\rm min}}\\times30+12 {\\rm hr}=14 {\\rm hr}\n",
    "$$\n",
    "\n",
    "It's also important to note that when a star is on the meridian from Greenwich (longitude of 0$^o$), it **is not** from other observing sites. Take Cork (longitude=8.5$^{o}$ West) as an example. A star will pass through our meridian\n",
    "$$\n",
    "    \\frac{8.5}{360}\\times24\\times60=34 \\: {\\rm min}\n",
    "$$\n",
    "later than when it passed through the meridian from Greenwich.\n",
    "\n",
    "**Exercise: Work out this difference between Dublin and Cork.**\n",
    "\n",
    "The time between equinoxes is $\\sim$365.25 days. Because of this, the time of the equinox shifts by $\\sim$6 hours every year. As such, the equinox next year will occur at"
   ]
  },
  {
   "cell_type": "code",
   "execution_count": 68,
   "id": "9c33c4e6-395e-4dfb-89c7-920097fc5e41",
   "metadata": {},
   "outputs": [
    {
     "name": "stdout",
     "output_type": "stream",
     "text": [
      "[359d59m59.96453645s 0d00m00.00253351s]\n"
     ]
    }
   ],
   "source": [
    "time = [\"2023-03-21T05:10:07\",\"2023-03-21T05:10:08\"]\n",
    "t = Time(time,format='isot',scale='utc')\n",
    "with solar_system_ephemeris.set('builtin'):\n",
    "    sun = get_sun(t) # Get the location of the Sun\n",
    "print(sun.ra)"
   ]
  },
  {
   "cell_type": "markdown",
   "id": "9e9fc13d-c089-4364-9956-49590f6ce743",
   "metadata": {},
   "source": [
    "This date has always been important in religions. For example, Easter is the first Sunday after the first full moon after the Spring equinox. Irish monks played an important role in developing the \"Computus\", which calculated the date of Easter with respect to the equinox."
   ]
  },
  {
   "cell_type": "markdown",
   "id": "1f8278ff-7fca-490c-a400-8a6b0302d10c",
   "metadata": {},
   "source": [
    "### Reference Times\n",
    "\n",
    "The time at which an astronomical event (a supernova, an eclipse, a gamma-ray burst) usually occurs is typically given in Julian days (JD). This is the time which has lapsed, in days, since noon at Greenwich on January 1, 4713 BC. There are variants such as the Modified Julian Date (MJD), which is the time in days since midnight, November 17 1858. MJD is typically used instead of JD simply because it removes a very large constant. The below code shows todays JD and MJD (as computed when I last evaluated this cell)."
   ]
  },
  {
   "cell_type": "code",
   "execution_count": 96,
   "id": "fe0a647e-06b3-44f0-b277-b3f56d21d081",
   "metadata": {},
   "outputs": [
    {
     "name": "stdout",
     "output_type": "stream",
     "text": [
      "The current time is: 2022-01-11T15:45:38.126\n",
      "The current time in JD is: 2459591.156691279\n",
      "The current time in MJD is: 59590.65669127864\n"
     ]
    }
   ],
   "source": [
    "ut = Time(datetime.utcnow(), scale='utc')\n",
    "\n",
    "print(f\"The current time is: {ut.isot}\")\n",
    "print(f\"The current time in JD is: {ut.jd}\")\n",
    "print(f\"The current time in MJD is: {ut.mjd}\")"
   ]
  },
  {
   "cell_type": "markdown",
   "id": "c80a9ce7-c205-474b-8864-5d052f143547",
   "metadata": {},
   "source": [
    "### Motion of the stars due to the Earths orbit\n",
    "Consider a star which is on the ecliptic. We observe it at 4 different epochs (A, B, C, and D), as shown below.\n",
    "\n",
    "![Aberration](Images/Figure_1.png)\n",
    "\n",
    "Because of the relative motion of the Earth which is moving through space at a velocity ${\\bf v}$, a telescope will have to point at an angle of \n",
    "$$\n",
    "\\phi=\\tan^{-1}\\frac{v_{\\rm y}}{c}\n",
    "$$\n",
    "in order to intercept the light as it arrives at Earth, where $v_{\\rm y}$ is the component of ${\\bf v}$ in the y direction and c is the speed of light. This means that at point A, where $v_{\\rm y}= \\textbf{v}=30$ km/s, then the telescope must point with an angle offset of 20.6\". At points B and D, then $v_{\\rm y}$=0, and no offset is needed. At point C, an offset of -21\" is needed (meaning the maximum angular displacement observed over 1 year is 41.2\").\n",
    "\n",
    "Stars off the ecliptic by an angle $\\theta$ become more complex to deal with, and at maximum gain an additional $\\frac{v\\sin\\theta}{c}$ component perpendicular to the ecliptic, causing them to trace out ellipses in the night sky - see the figure below for more.\n",
    "\n",
    "![Aberration_2](Images/Figure_2.png)"
   ]
  },
  {
   "cell_type": "markdown",
   "id": "c9128b66-9c0e-450d-8f00-432b9e3af9cc",
   "metadata": {},
   "source": [
    "# The distance and brightness of stars\n",
    "\n",
    "The most direct method of measuring the distance to a star is to measure its parallax. Consider a nearby star which is a distance D from the Sun. Over a half a year, it's position on the sky will vary relative to the background of stars which are far enough away that they don't show any motion.\n",
    "\n",
    "![Parallax](Images/Figure_3.png)\n",
    "\n",
    "The Earth lies 1 astronomical unit (1 AU $=1.49\\times10^{11}$ m) away from the Sun. As such, an object which exhibits a parallax of $\\theta=1\"$ has to be a distance\n",
    "$$\n",
    "    D = \\frac{1.49\\times10^{11} \\: {\\rm m}}{\\tan(\\theta)} \\approx \\frac{1.49\\times10^{11} \\: {\\rm m}}{\\theta} = 3.0856\\times10^{16}{\\rm m} \\equiv 1 {\\rm pc}\n",
    "$$"
   ]
  },
  {
   "cell_type": "code",
   "execution_count": 15,
   "id": "2c22c91e-b7e0-41a0-a744-cab7aacbea5c",
   "metadata": {},
   "outputs": [
    {
     "data": {
      "text/latex": [
       "$3.0856776 \\times 10^{16} \\; \\mathrm{m}$"
      ],
      "text/plain": [
       "<Quantity 3.08567758e+16 m>"
      ]
     },
     "execution_count": 15,
     "metadata": {},
     "output_type": "execute_result"
    }
   ],
   "source": [
    "theta = 1*u.arcsec\n",
    "D=1*u.au/np.tan(theta)\n",
    "D.to(u.m)"
   ]
  },
  {
   "cell_type": "markdown",
   "id": "ac578a57-41f4-42ad-afb7-0b1c8b072a28",
   "metadata": {},
   "source": [
    "Note that the nearest star to Earth, Proxima Centauri, is 1.3 parsecs away. This means the observed parallax is less than 1\". This is a very small angle, smaller than the average seeing from an observing site (where seeing is the dispersion of starlight by atmospheric turbulence.)\n",
    "\n",
    "A parallax measurement of 0.1-0.01\" can be done from the ground under exceptional observing conditions, but this only gets us out to a distance of 100 pc. Considering the Milky Way is 32kpc across, this is barely scratching the surface. As such, we need to get above the atmosphere to observe smaller parallaxes.\n",
    "\n",
    "GAIA has achieved parallax meausrements of $(1\\times10^{-4})$\", allowing it to accuretely measure the distance to objects which are 10 kpc away."
   ]
  },
  {
   "cell_type": "code",
   "execution_count": null,
   "id": "876a575f-97f5-4866-9fe8-be3de103886f",
   "metadata": {},
   "outputs": [],
   "source": []
  }
 ],
 "metadata": {
  "kernelspec": {
   "display_name": "Python 3 (ipykernel)",
   "language": "python",
   "name": "python3"
  },
  "language_info": {
   "codemirror_mode": {
    "name": "ipython",
    "version": 3
   },
   "file_extension": ".py",
   "mimetype": "text/x-python",
   "name": "python",
   "nbconvert_exporter": "python",
   "pygments_lexer": "ipython3",
   "version": "3.8.10"
  }
 },
 "nbformat": 4,
 "nbformat_minor": 5
}
